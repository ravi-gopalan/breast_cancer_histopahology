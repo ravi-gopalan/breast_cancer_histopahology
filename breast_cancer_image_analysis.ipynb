{
  "nbformat": 4,
  "nbformat_minor": 0,
  "metadata": {
    "colab": {
      "name": "breast_cancer_image_analysis.ipynb",
      "version": "0.3.2",
      "provenance": [],
      "include_colab_link": true
    },
    "kernelspec": {
      "name": "python3",
      "display_name": "Python 3"
    },
    "accelerator": "GPU"
  },
  "cells": [
    {
      "cell_type": "markdown",
      "metadata": {
        "id": "view-in-github",
        "colab_type": "text"
      },
      "source": [
        "<a href=\"https://colab.research.google.com/github/ravi-gopalan/breast_cancer_histopathology/blob/master/breast_cancer_image_analysis.ipynb\" target=\"_parent\"><img src=\"https://colab.research.google.com/assets/colab-badge.svg\" alt=\"Open In Colab\"/></a>"
      ]
    },
    {
      "cell_type": "code",
      "metadata": {
        "id": "zm8Pi4XC4o2G",
        "colab_type": "code",
        "colab": {
          "base_uri": "https://localhost:8080/",
          "height": 138
        },
        "outputId": "5a53dfc5-348e-4ed9-fd4f-d35c99cc7c2a"
      },
      "source": [
        "!ls -la"
      ],
      "execution_count": 3,
      "outputs": [
        {
          "output_type": "stream",
          "text": [
            "total 32\n",
            "drwxr-xr-x   1 root root  4096 Jun  4 00:38 .\n",
            "drwxr-xr-x   1 root root  4096 Jun  4 00:29 ..\n",
            "drwxr-xr-x 281 root root 12288 Jun  4 00:40 breast_cancer_analysis\n",
            "drwxr-xr-x   1 root root  4096 May 31 16:17 .config\n",
            "drwx------   3 root root  4096 Jun  4 00:38 gdrive\n",
            "drwxr-xr-x   1 root root  4096 May 31 16:17 sample_data\n"
          ],
          "name": "stdout"
        }
      ]
    },
    {
      "cell_type": "code",
      "metadata": {
        "id": "w1VPNFng4uKx",
        "colab_type": "code",
        "colab": {}
      },
      "source": [
        "!mkdir breast_cancer_analysis"
      ],
      "execution_count": 0,
      "outputs": []
    },
    {
      "cell_type": "code",
      "metadata": {
        "id": "nqPQuQoh40NU",
        "colab_type": "code",
        "colab": {
          "base_uri": "https://localhost:8080/",
          "height": 124
        },
        "outputId": "3913ea1b-4d63-4c63-fb73-fda9c33afce9"
      },
      "source": [
        "from google.colab import drive\n",
        "drive.mount('/content/gdrive')"
      ],
      "execution_count": 3,
      "outputs": [
        {
          "output_type": "stream",
          "text": [
            "Go to this URL in a browser: https://accounts.google.com/o/oauth2/auth?client_id=947318989803-6bn6qk8qdgf4n4g3pfee6491hc0brc4i.apps.googleusercontent.com&redirect_uri=urn%3Aietf%3Awg%3Aoauth%3A2.0%3Aoob&scope=email%20https%3A%2F%2Fwww.googleapis.com%2Fauth%2Fdocs.test%20https%3A%2F%2Fwww.googleapis.com%2Fauth%2Fdrive%20https%3A%2F%2Fwww.googleapis.com%2Fauth%2Fdrive.photos.readonly%20https%3A%2F%2Fwww.googleapis.com%2Fauth%2Fpeopleapi.readonly&response_type=code\n",
            "\n",
            "Enter your authorization code:\n",
            "··········\n",
            "Mounted at /content/gdrive\n"
          ],
          "name": "stdout"
        }
      ]
    },
    {
      "cell_type": "code",
      "metadata": {
        "id": "Isxj7gEI43m8",
        "colab_type": "code",
        "colab": {
          "base_uri": "https://localhost:8080/",
          "height": 34
        },
        "outputId": "733d14ed-11b4-4552-ac26-ef4663969c55"
      },
      "source": [
        "cd /root"
      ],
      "execution_count": 4,
      "outputs": [
        {
          "output_type": "stream",
          "text": [
            "/root\n"
          ],
          "name": "stdout"
        }
      ]
    },
    {
      "cell_type": "code",
      "metadata": {
        "id": "W6GJhFl65E5l",
        "colab_type": "code",
        "colab": {}
      },
      "source": [
        "!mkdir .kaggle"
      ],
      "execution_count": 0,
      "outputs": []
    },
    {
      "cell_type": "code",
      "metadata": {
        "id": "0QxWR5MO5JaF",
        "colab_type": "code",
        "colab": {}
      },
      "source": [
        "!cp '/content/gdrive/My Drive/Colab_stuff/kaggle.json' /root/.kaggle/kaggle.json\n",
        "!chmod 600 /root/.kaggle/kaggle.json"
      ],
      "execution_count": 0,
      "outputs": []
    },
    {
      "cell_type": "code",
      "metadata": {
        "id": "xlGEtmXi5Sbp",
        "colab_type": "code",
        "colab": {
          "base_uri": "https://localhost:8080/",
          "height": 34
        },
        "outputId": "a5adc736-5c93-4903-8ac9-7548d88531f5"
      },
      "source": [
        "cd /content/breast_cancer_analysis"
      ],
      "execution_count": 7,
      "outputs": [
        {
          "output_type": "stream",
          "text": [
            "/content/breast_cancer_analysis\n"
          ],
          "name": "stdout"
        }
      ]
    },
    {
      "cell_type": "code",
      "metadata": {
        "id": "AdmdWtay5Z5O",
        "colab_type": "code",
        "colab": {
          "base_uri": "https://localhost:8080/",
          "height": 69
        },
        "outputId": "257a8167-5821-44aa-8f46-b43cf42f7c5f"
      },
      "source": [
        "!kaggle datasets download -d paultimothymooney/breast-histopathology-images -p /content/breast_cancer_analysis"
      ],
      "execution_count": 8,
      "outputs": [
        {
          "output_type": "stream",
          "text": [
            "Downloading breast-histopathology-images.zip to /content/breast_cancer_analysis\n",
            " 99% 1.48G/1.49G [00:32<00:00, 51.9MB/s]\n",
            "100% 1.49G/1.49G [00:32<00:00, 48.8MB/s]\n"
          ],
          "name": "stdout"
        }
      ]
    },
    {
      "cell_type": "code",
      "metadata": {
        "id": "wQcedVi_5ove",
        "colab_type": "code",
        "colab": {
          "base_uri": "https://localhost:8080/",
          "height": 86
        },
        "outputId": "ffb85fe7-3e9b-40a9-b95b-db59596b40b6"
      },
      "source": [
        "!ls -la"
      ],
      "execution_count": 9,
      "outputs": [
        {
          "output_type": "stream",
          "text": [
            "total 1560716\n",
            "drwxr-xr-x 2 root root       4096 Jun  4 00:39 .\n",
            "drwxr-xr-x 1 root root       4096 Jun  4 00:38 ..\n",
            "-rw-r--r-- 1 root root 1598158593 Jun  4 00:39 breast-histopathology-images.zip\n"
          ],
          "name": "stdout"
        }
      ]
    },
    {
      "cell_type": "code",
      "metadata": {
        "id": "kCTEu_3-52Q5",
        "colab_type": "code",
        "colab": {
          "base_uri": "https://localhost:8080/",
          "height": 51
        },
        "outputId": "d199709e-59cd-41af-bc4c-ab961b4e3596"
      },
      "source": [
        "!unzip breast-histopathology-images.zip"
      ],
      "execution_count": 10,
      "outputs": [
        {
          "output_type": "stream",
          "text": [
            "Archive:  breast-histopathology-images.zip\n",
            "  inflating: IDC_regular_ps50_idx5.zip  \n"
          ],
          "name": "stdout"
        }
      ]
    },
    {
      "cell_type": "code",
      "metadata": {
        "id": "0Pd7GlOV5-cC",
        "colab_type": "code",
        "colab": {
          "base_uri": "https://localhost:8080/",
          "height": 104
        },
        "outputId": "1db619a5-e6cf-4848-b379-263e8241964d"
      },
      "source": [
        "!ls -la"
      ],
      "execution_count": 11,
      "outputs": [
        {
          "output_type": "stream",
          "text": [
            "total 3167060\n",
            "drwxr-xr-x 2 root root       4096 Jun  4 00:39 .\n",
            "drwxr-xr-x 1 root root       4096 Jun  4 00:38 ..\n",
            "-rw-r--r-- 1 root root 1598158593 Jun  4 00:39 breast-histopathology-images.zip\n",
            "-rw-r--r-- 1 root root 1644892042 Dec 19  2017 IDC_regular_ps50_idx5.zip\n"
          ],
          "name": "stdout"
        }
      ]
    },
    {
      "cell_type": "code",
      "metadata": {
        "id": "C29uFiu76MeK",
        "colab_type": "code",
        "colab": {}
      },
      "source": [
        "!unzip -q IDC_regular_ps50_idx5.zip"
      ],
      "execution_count": 0,
      "outputs": []
    },
    {
      "cell_type": "code",
      "metadata": {
        "id": "_CD_yItP6k1i",
        "colab_type": "code",
        "colab": {}
      },
      "source": [
        "!rm breast-histopathology-images.zip\n",
        "!rm IDC_regular_ps50_idx5.zip"
      ],
      "execution_count": 0,
      "outputs": []
    },
    {
      "cell_type": "code",
      "metadata": {
        "id": "LAr1-K0I6qjJ",
        "colab_type": "code",
        "colab": {
          "base_uri": "https://localhost:8080/",
          "height": 434
        },
        "outputId": "b8e39abe-fb98-4224-a6ac-96f46a3607ed"
      },
      "source": [
        "!ls"
      ],
      "execution_count": 14,
      "outputs": [
        {
          "output_type": "stream",
          "text": [
            "10253  10288  12810  12881  12930  13403  14153  15513\t16554  8980  9174  9291\n",
            "10254  10290  12811  12882  12931  13404  14154  15514\t16555  8984  9175  9319\n",
            "10255  10291  12817  12883  12932  13458  14155  15515\t16568  9022  9176  9320\n",
            "10256  10292  12818  12884  12933  13459  14156  15516\t16569  9023  9177  9321\n",
            "10257  10293  12819  12886  12934  13460  14157  15632\t16570  9029  9178  9322\n",
            "10258  10295  12820  12890  12935  13461  14188  15633\t16895  9035  9181  9323\n",
            "10259  10299  12821  12891  12947  13462  14189  15634\t16896  9036  9225  9324\n",
            "10260  10300  12822  12892  12948  13591  14190  15839\t8863   9037  9226  9325\n",
            "10261  10301  12823  12893  12949  13613  14191  15840\t8864   9041  9227  9344\n",
            "10262  10302  12824  12894  12951  13616  14192  15902\t8865   9043  9228  9345\n",
            "10264  10303  12826  12895  12954  13617  14209  15903\t8867   9044  9250  9346\n",
            "10268  10304  12867  12896  12955  13666  14210  16014\t8913   9073  9254  9347\n",
            "10269  10305  12868  12897  13018  13687  14211  16085\t8914   9075  9255  9381\n",
            "10272  10306  12869  12898  13019  13688  14212  16165\t8916   9076  9256  9382\n",
            "10273  10307  12870  12900  13020  13689  14213  16166\t8917   9077  9257  9383\n",
            "10274  10308  12871  12901  13021  13691  14304  16167\t8918   9078  9258\n",
            "10275  12241  12872  12905  13022  13692  14305  16531\t8950   9081  9259\n",
            "10276  12242  12873  12906  13023  13693  14306  16532\t8951   9083  9260\n",
            "10277  12626  12875  12907  13024  13694  14321  16533\t8955   9123  9261\n",
            "10278  12748  12876  12908  13025  13916  15471  16534\t8956   9124  9262\n",
            "10279  12749  12877  12909  13106  14078  15472  16550\t8957   9125  9265\n",
            "10282  12750  12878  12910  13400  14079  15473  16551\t8959   9126  9266\n",
            "10285  12751  12879  12911  13401  14081  15510  16552\t8974   9135  9267\n",
            "10286  12752  12880  12929  13402  14082  15512  16553\t8975   9173  9290\n"
          ],
          "name": "stdout"
        }
      ]
    },
    {
      "cell_type": "code",
      "metadata": {
        "id": "9G6BpA7O729z",
        "colab_type": "code",
        "colab": {
          "base_uri": "https://localhost:8080/",
          "height": 89
        },
        "outputId": "67d25609-61b8-4c60-f9e9-ccf38fb6b23c"
      },
      "source": [
        "import os\n",
        "from pathlib import Path\n",
        "import shutil\n",
        "import glob\n",
        "from PIL import Image, ImageFile\n",
        "import numpy as np\n",
        "import pandas as pd\n",
        "import matplotlib.pyplot as plt\n",
        "import matplotlib.gridspec as gridspec\n",
        "import seaborn as sns\n",
        "\n",
        "\n",
        "from sklearn.datasets import load_files\n",
        "from keras.utils import np_utils\n",
        "\n",
        "from keras.preprocessing import image\n",
        "from keras.preprocessing.image import ImageDataGenerator\n",
        "\n",
        "from imblearn.under_sampling import RandomUnderSampler\n",
        "from imblearn.over_sampling import RandomOverSampler\n",
        "\n",
        "\n",
        "from tqdm import tqdm\n",
        "\n",
        "\n",
        "from keras.layers import Conv2D, MaxPooling2D, GlobalAveragePooling2D\n",
        "from keras.layers import Dropout, Flatten, Dense\n",
        "from keras.models import Sequential, Model\n",
        "from keras.layers.normalization import BatchNormalization\n",
        "from keras.callbacks import ModelCheckpoint, EarlyStopping, History, CSVLogger\n",
        "from keras.applications import vgg16, inception_v3, resnet50, mobilenet, xception\n",
        "\n",
        "from sklearn.metrics import confusion_matrix, precision_score, recall_score\n",
        "from sklearn.metrics import f1_score, fbeta_score, roc_curve, cohen_kappa_score\n",
        "from sklearn.metrics import auc, roc_auc_score, precision_recall_curve\n",
        "\n",
        "from sklearn.model_selection import StratifiedShuffleSplit\n"
      ],
      "execution_count": 4,
      "outputs": [
        {
          "output_type": "stream",
          "text": [
            "Using TensorFlow backend.\n",
            "/usr/local/lib/python3.6/dist-packages/sklearn/externals/six.py:31: DeprecationWarning: The module is deprecated in version 0.21 and will be removed in version 0.23 since we've dropped support for Python 2.7. Please rely on the official version of six (https://pypi.org/project/six/).\n",
            "  \"(https://pypi.org/project/six/).\", DeprecationWarning)\n"
          ],
          "name": "stderr"
        }
      ]
    },
    {
      "cell_type": "code",
      "metadata": {
        "id": "piyBRl5c6v3f",
        "colab_type": "code",
        "colab": {}
      },
      "source": [
        "# data path\n",
        "base_dir = Path('/content/breast_cancer_analysis')"
      ],
      "execution_count": 0,
      "outputs": []
    },
    {
      "cell_type": "code",
      "metadata": {
        "id": "QXSR_9SW6xhp",
        "colab_type": "code",
        "colab": {
          "base_uri": "https://localhost:8080/",
          "height": 34
        },
        "outputId": "6e20440c-48ee-4741-d6bd-0059f8902353"
      },
      "source": [
        "cd /content/breast_cancer_analysis"
      ],
      "execution_count": 6,
      "outputs": [
        {
          "output_type": "stream",
          "text": [
            "/content/breast_cancer_analysis\n"
          ],
          "name": "stdout"
        }
      ]
    },
    {
      "cell_type": "code",
      "metadata": {
        "id": "T2p6TnPv75Bk",
        "colab_type": "code",
        "colab": {
          "base_uri": "https://localhost:8080/",
          "height": 34
        },
        "outputId": "46455169-9579-4ab9-946a-e5241176c385"
      },
      "source": [
        "cd 0"
      ],
      "execution_count": 23,
      "outputs": [
        {
          "output_type": "stream",
          "text": [
            "/content/breast_cancer_analysis/10253/0\n"
          ],
          "name": "stdout"
        }
      ]
    },
    {
      "cell_type": "code",
      "metadata": {
        "id": "5I4CEL4c77Rc",
        "colab_type": "code",
        "colab": {}
      },
      "source": [
        "result = list(Path(base_dir).glob('**/*.png'))"
      ],
      "execution_count": 0,
      "outputs": []
    },
    {
      "cell_type": "code",
      "metadata": {
        "id": "wOzFrMpN78u-",
        "colab_type": "code",
        "colab": {
          "base_uri": "https://localhost:8080/",
          "height": 34
        },
        "outputId": "e3b4aa86-8383-4558-cfba-3e4e83e525f1"
      },
      "source": [
        "len(result)"
      ],
      "execution_count": 19,
      "outputs": [
        {
          "output_type": "execute_result",
          "data": {
            "text/plain": [
              "277524"
            ]
          },
          "metadata": {
            "tags": []
          },
          "execution_count": 19
        }
      ]
    },
    {
      "cell_type": "code",
      "metadata": {
        "id": "V-2YPBDWgIm1",
        "colab_type": "code",
        "colab": {}
      },
      "source": [
        "def check_class(name):\n",
        "  if name.__contains__('class0'):\n",
        "    case = 0\n",
        "  else:\n",
        "    case = 1\n",
        "  return case"
      ],
      "execution_count": 0,
      "outputs": []
    },
    {
      "cell_type": "code",
      "metadata": {
        "id": "GGHrcsUsjIff",
        "colab_type": "code",
        "colab": {
          "base_uri": "https://localhost:8080/",
          "height": 34
        },
        "outputId": "e483d14e-1e24-4448-f420-e55a4f752329"
      },
      "source": [
        "result[5].is_file()"
      ],
      "execution_count": 29,
      "outputs": [
        {
          "output_type": "execute_result",
          "data": {
            "text/plain": [
              "True"
            ]
          },
          "metadata": {
            "tags": []
          },
          "execution_count": 29
        }
      ]
    },
    {
      "cell_type": "code",
      "metadata": {
        "id": "TsSznd7qi8lF",
        "colab_type": "code",
        "colab": {
          "base_uri": "https://localhost:8080/",
          "height": 34
        },
        "outputId": "0c4e3c9c-5c71-41f1-db7c-627fdfcabc6f"
      },
      "source": [
        "result[5].name"
      ],
      "execution_count": 30,
      "outputs": [
        {
          "output_type": "execute_result",
          "data": {
            "text/plain": [
              "'13018_idx5_x2351_y251_class0.png'"
            ]
          },
          "metadata": {
            "tags": []
          },
          "execution_count": 30
        }
      ]
    },
    {
      "cell_type": "code",
      "metadata": {
        "id": "nDghyPzKpM8F",
        "colab_type": "code",
        "colab": {
          "base_uri": "https://localhost:8080/",
          "height": 34
        },
        "outputId": "97491071-9577-4e5e-fd3a-ae2ed8c2954d"
      },
      "source": [
        "result[0]"
      ],
      "execution_count": 42,
      "outputs": [
        {
          "output_type": "execute_result",
          "data": {
            "text/plain": [
              "PosixPath('/content/breast_cancer_analysis/13018/0/13018_idx5_x2301_y601_class0.png')"
            ]
          },
          "metadata": {
            "tags": []
          },
          "execution_count": 42
        }
      ]
    },
    {
      "cell_type": "code",
      "metadata": {
        "id": "krrs_kE6pYz3",
        "colab_type": "code",
        "colab": {}
      },
      "source": [
        "# create a 4D tensor from an imaoge\n",
        "def path_to_tensor(img_path):\n",
        "    # loads RGB image as PIL.Image.Image type\n",
        "    img = image.load_img(img_path, target_size=(50, 50))\n",
        "    # convert PIL.Image.Image type to 3D tensor with shape (50, 50, 3)\n",
        "    x = image.img_to_array(img)\n",
        "    # convert 3D tensor to 4D tensor with shape (1, 50, 50, 3) and return 4D tensor\n",
        "    return np.expand_dims(x, axis=0)"
      ],
      "execution_count": 0,
      "outputs": []
    },
    {
      "cell_type": "code",
      "metadata": {
        "id": "KYvHnpeSrEh3",
        "colab_type": "code",
        "colab": {
          "base_uri": "https://localhost:8080/",
          "height": 34
        },
        "outputId": "55c5506c-b4e3-4783-f6db-0a11ee8941f0"
      },
      "source": [
        "result[5].name"
      ],
      "execution_count": 62,
      "outputs": [
        {
          "output_type": "execute_result",
          "data": {
            "text/plain": [
              "'13018_idx5_x2351_y251_class0.png'"
            ]
          },
          "metadata": {
            "tags": []
          },
          "execution_count": 62
        }
      ]
    },
    {
      "cell_type": "code",
      "metadata": {
        "id": "zqpEe4ySrSuP",
        "colab_type": "code",
        "colab": {
          "base_uri": "https://localhost:8080/",
          "height": 34
        },
        "outputId": "f637f1eb-975f-438c-9ef9-c7137f1e21f7"
      },
      "source": [
        "X = np.array([path_to_tensor(img_path) for img_path in tqdm(result)])"
      ],
      "execution_count": 0,
      "outputs": [
        {
          "output_type": "stream",
          "text": [
            "100%|██████████| 277524/277524 [04:18<00:00, 1073.07it/s]\n"
          ],
          "name": "stderr"
        }
      ]
    },
    {
      "cell_type": "code",
      "metadata": {
        "id": "K4VKC8xQulqV",
        "colab_type": "code",
        "colab": {
          "base_uri": "https://localhost:8080/",
          "height": 167
        },
        "outputId": "5e343802-c907-4d65-86a9-2d1d1d80d00d"
      },
      "source": [
        "type(X)"
      ],
      "execution_count": 1,
      "outputs": [
        {
          "output_type": "error",
          "ename": "NameError",
          "evalue": "ignored",
          "traceback": [
            "\u001b[0;31m---------------------------------------------------------------------------\u001b[0m",
            "\u001b[0;31mNameError\u001b[0m                                 Traceback (most recent call last)",
            "\u001b[0;32m<ipython-input-1-179cf50426b5>\u001b[0m in \u001b[0;36m<module>\u001b[0;34m()\u001b[0m\n\u001b[0;32m----> 1\u001b[0;31m \u001b[0mtype\u001b[0m\u001b[0;34m(\u001b[0m\u001b[0mX\u001b[0m\u001b[0;34m)\u001b[0m\u001b[0;34m\u001b[0m\u001b[0;34m\u001b[0m\u001b[0m\n\u001b[0m",
            "\u001b[0;31mNameError\u001b[0m: name 'X' is not defined"
          ]
        }
      ]
    },
    {
      "cell_type": "code",
      "metadata": {
        "id": "oBBcXX-5xyqR",
        "colab_type": "code",
        "colab": {}
      },
      "source": [
        "Y = np.array([check_class(fname.name) for fname in result])"
      ],
      "execution_count": 0,
      "outputs": []
    },
    {
      "cell_type": "code",
      "metadata": {
        "id": "Qn-EUs9ezTRL",
        "colab_type": "code",
        "colab": {
          "base_uri": "https://localhost:8080/",
          "height": 34
        },
        "outputId": "5a9f5404-4f37-4c06-8e2b-d7ae2056da18"
      },
      "source": [
        "Y"
      ],
      "execution_count": 77,
      "outputs": [
        {
          "output_type": "execute_result",
          "data": {
            "text/plain": [
              "array([0, 0, 0, ..., 1, 1, 1])"
            ]
          },
          "metadata": {
            "tags": []
          },
          "execution_count": 77
        }
      ]
    },
    {
      "cell_type": "code",
      "metadata": {
        "id": "e_QSXq5lzUD1",
        "colab_type": "code",
        "colab": {
          "base_uri": "https://localhost:8080/",
          "height": 34
        },
        "outputId": "2cd14340-8c3a-409e-f442-fff4fb04fc97"
      },
      "source": [
        "len(Y)"
      ],
      "execution_count": 78,
      "outputs": [
        {
          "output_type": "execute_result",
          "data": {
            "text/plain": [
              "277524"
            ]
          },
          "metadata": {
            "tags": []
          },
          "execution_count": 78
        }
      ]
    },
    {
      "cell_type": "code",
      "metadata": {
        "id": "9b5rHRoSzaxj",
        "colab_type": "code",
        "colab": {}
      },
      "source": [
        ""
      ],
      "execution_count": 0,
      "outputs": []
    }
  ]
}