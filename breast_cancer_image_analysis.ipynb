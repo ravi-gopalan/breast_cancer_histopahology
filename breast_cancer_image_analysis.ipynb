{
  "nbformat": 4,
  "nbformat_minor": 0,
  "metadata": {
    "colab": {
      "name": "breast_cancer_image_analysis.ipynb",
      "version": "0.3.2",
      "provenance": [],
      "include_colab_link": true
    },
    "kernelspec": {
      "name": "python3",
      "display_name": "Python 3"
    },
    "accelerator": "GPU"
  },
  "cells": [
    {
      "cell_type": "markdown",
      "metadata": {
        "id": "view-in-github",
        "colab_type": "text"
      },
      "source": [
        "<a href=\"https://colab.research.google.com/github/ravi-gopalan/breast_cancer_histopathology/blob/master/breast_cancer_image_analysis.ipynb\" target=\"_parent\"><img src=\"https://colab.research.google.com/assets/colab-badge.svg\" alt=\"Open In Colab\"/></a>"
      ]
    },
    {
      "cell_type": "code",
      "metadata": {
        "id": "zm8Pi4XC4o2G",
        "colab_type": "code",
        "colab": {
          "base_uri": "https://localhost:8080/",
          "height": 34
        },
        "outputId": "757f7501-557c-4d94-9957-f8f94d606f0f"
      },
      "source": [
        "pwd"
      ],
      "execution_count": 1,
      "outputs": [
        {
          "output_type": "execute_result",
          "data": {
            "text/plain": [
              "'/content'"
            ]
          },
          "metadata": {
            "tags": []
          },
          "execution_count": 1
        }
      ]
    },
    {
      "cell_type": "code",
      "metadata": {
        "id": "w1VPNFng4uKx",
        "colab_type": "code",
        "colab": {}
      },
      "source": [
        "!mkdir breast_cancer_analysis"
      ],
      "execution_count": 0,
      "outputs": []
    },
    {
      "cell_type": "code",
      "metadata": {
        "id": "nqPQuQoh40NU",
        "colab_type": "code",
        "colab": {
          "base_uri": "https://localhost:8080/",
          "height": 124
        },
        "outputId": "0c2078dc-929c-4be1-ffe2-88e032d35239"
      },
      "source": [
        "from google.colab import drive\n",
        "drive.mount('/content/gdrive')"
      ],
      "execution_count": 3,
      "outputs": [
        {
          "output_type": "stream",
          "text": [
            "Go to this URL in a browser: https://accounts.google.com/o/oauth2/auth?client_id=947318989803-6bn6qk8qdgf4n4g3pfee6491hc0brc4i.apps.googleusercontent.com&redirect_uri=urn%3Aietf%3Awg%3Aoauth%3A2.0%3Aoob&scope=email%20https%3A%2F%2Fwww.googleapis.com%2Fauth%2Fdocs.test%20https%3A%2F%2Fwww.googleapis.com%2Fauth%2Fdrive%20https%3A%2F%2Fwww.googleapis.com%2Fauth%2Fdrive.photos.readonly%20https%3A%2F%2Fwww.googleapis.com%2Fauth%2Fpeopleapi.readonly&response_type=code\n",
            "\n",
            "Enter your authorization code:\n",
            "··········\n",
            "Mounted at /content/gdrive\n"
          ],
          "name": "stdout"
        }
      ]
    },
    {
      "cell_type": "code",
      "metadata": {
        "id": "Isxj7gEI43m8",
        "colab_type": "code",
        "colab": {
          "base_uri": "https://localhost:8080/",
          "height": 34
        },
        "outputId": "1ef957af-5bcc-4daf-9dd7-c04b26ebf624"
      },
      "source": [
        "cd /root"
      ],
      "execution_count": 7,
      "outputs": [
        {
          "output_type": "stream",
          "text": [
            "/root\n"
          ],
          "name": "stdout"
        }
      ]
    },
    {
      "cell_type": "code",
      "metadata": {
        "id": "W6GJhFl65E5l",
        "colab_type": "code",
        "colab": {}
      },
      "source": [
        "!mkdir .kaggle"
      ],
      "execution_count": 0,
      "outputs": []
    },
    {
      "cell_type": "code",
      "metadata": {
        "id": "0QxWR5MO5JaF",
        "colab_type": "code",
        "colab": {}
      },
      "source": [
        "!cp '/content/gdrive/My Drive/Colab_stuff/kaggle.json' /root/.kaggle/kaggle.json\n",
        "!chmod 600 /root/.kaggle/kaggle.json"
      ],
      "execution_count": 0,
      "outputs": []
    },
    {
      "cell_type": "code",
      "metadata": {
        "id": "xlGEtmXi5Sbp",
        "colab_type": "code",
        "colab": {
          "base_uri": "https://localhost:8080/",
          "height": 34
        },
        "outputId": "9d2436b6-47fc-4700-fa3c-2c66aec425b3"
      },
      "source": [
        "cd /content/breast_cancer_analysis"
      ],
      "execution_count": 10,
      "outputs": [
        {
          "output_type": "stream",
          "text": [
            "/content/breast_cancer_analysis\n"
          ],
          "name": "stdout"
        }
      ]
    },
    {
      "cell_type": "code",
      "metadata": {
        "id": "AdmdWtay5Z5O",
        "colab_type": "code",
        "colab": {
          "base_uri": "https://localhost:8080/",
          "height": 69
        },
        "outputId": "90bf6e29-3c44-41be-fcf0-732199c35272"
      },
      "source": [
        "!kaggle datasets download -d paultimothymooney/breast-histopathology-images -p /content/breast_cancer_analysis"
      ],
      "execution_count": 12,
      "outputs": [
        {
          "output_type": "stream",
          "text": [
            "Downloading breast-histopathology-images.zip to /content/breast_cancer_analysis\n",
            " 99% 1.47G/1.49G [00:31<00:00, 29.8MB/s]\n",
            "100% 1.49G/1.49G [00:31<00:00, 50.1MB/s]\n"
          ],
          "name": "stdout"
        }
      ]
    },
    {
      "cell_type": "code",
      "metadata": {
        "id": "wQcedVi_5ove",
        "colab_type": "code",
        "colab": {
          "base_uri": "https://localhost:8080/",
          "height": 86
        },
        "outputId": "c6ec2643-294f-44ed-9988-01663eca4473"
      },
      "source": [
        "!ls -la"
      ],
      "execution_count": 13,
      "outputs": [
        {
          "output_type": "stream",
          "text": [
            "total 1560716\n",
            "drwxr-xr-x 2 root root       4096 Jun  3 15:13 .\n",
            "drwxr-xr-x 1 root root       4096 Jun  3 15:10 ..\n",
            "-rw-r--r-- 1 root root 1598158593 Jun  3 15:13 breast-histopathology-images.zip\n"
          ],
          "name": "stdout"
        }
      ]
    },
    {
      "cell_type": "code",
      "metadata": {
        "id": "kCTEu_3-52Q5",
        "colab_type": "code",
        "colab": {
          "base_uri": "https://localhost:8080/",
          "height": 51
        },
        "outputId": "c4e6a68a-7cbe-4c6d-9f51-89b99a54b1c3"
      },
      "source": [
        "!unzip breast-histopathology-images.zip"
      ],
      "execution_count": 14,
      "outputs": [
        {
          "output_type": "stream",
          "text": [
            "Archive:  breast-histopathology-images.zip\n",
            "  inflating: IDC_regular_ps50_idx5.zip  \n"
          ],
          "name": "stdout"
        }
      ]
    },
    {
      "cell_type": "code",
      "metadata": {
        "id": "0Pd7GlOV5-cC",
        "colab_type": "code",
        "colab": {
          "base_uri": "https://localhost:8080/",
          "height": 104
        },
        "outputId": "20d04036-2b7b-4a1a-8684-1d1e37eb031e"
      },
      "source": [
        "!ls -la"
      ],
      "execution_count": 15,
      "outputs": [
        {
          "output_type": "stream",
          "text": [
            "total 3167060\n",
            "drwxr-xr-x 2 root root       4096 Jun  3 15:14 .\n",
            "drwxr-xr-x 1 root root       4096 Jun  3 15:10 ..\n",
            "-rw-r--r-- 1 root root 1598158593 Jun  3 15:13 breast-histopathology-images.zip\n",
            "-rw-r--r-- 1 root root 1644892042 Dec 19  2017 IDC_regular_ps50_idx5.zip\n"
          ],
          "name": "stdout"
        }
      ]
    },
    {
      "cell_type": "code",
      "metadata": {
        "id": "C29uFiu76MeK",
        "colab_type": "code",
        "colab": {}
      },
      "source": [
        "!unzip -q IDC_regular_ps50_idx5.zip"
      ],
      "execution_count": 0,
      "outputs": []
    },
    {
      "cell_type": "code",
      "metadata": {
        "id": "Iq5xQJhG6R3Z",
        "colab_type": "code",
        "colab": {
          "base_uri": "https://localhost:8080/",
          "height": 4958
        },
        "outputId": "9d508e86-4e87-4f4d-c1ab-89aaaaa2bc5e"
      },
      "source": [
        "!ls -la"
      ],
      "execution_count": 17,
      "outputs": [
        {
          "output_type": "stream",
          "text": [
            "total 3168184\n",
            "drwxr-xr-x 281 root root      12288 Jun  3 15:16 .\n",
            "drwxr-xr-x   1 root root       4096 Jun  3 15:10 ..\n",
            "drwx------   4 root root       4096 Mar 13  2014 10253\n",
            "drwx------   4 root root       4096 Mar 13  2014 10254\n",
            "drwx------   4 root root       4096 Mar 13  2014 10255\n",
            "drwx------   4 root root       4096 Mar 13  2014 10256\n",
            "drwx------   4 root root       4096 Mar 13  2014 10257\n",
            "drwx------   4 root root       4096 Mar 13  2014 10258\n",
            "drwx------   4 root root       4096 Mar 13  2014 10259\n",
            "drwx------   4 root root       4096 Mar 13  2014 10260\n",
            "drwx------   4 root root       4096 Mar 13  2014 10261\n",
            "drwx------   4 root root       4096 Mar 13  2014 10262\n",
            "drwx------   4 root root       4096 Mar 13  2014 10264\n",
            "drwx------   4 root root       4096 Mar 13  2014 10268\n",
            "drwx------   4 root root       4096 Mar 13  2014 10269\n",
            "drwx------   4 root root       4096 Mar 13  2014 10272\n",
            "drwx------   4 root root       4096 Mar 13  2014 10273\n",
            "drwx------   4 root root       4096 Mar 13  2014 10274\n",
            "drwx------   4 root root       4096 Mar 13  2014 10275\n",
            "drwx------   4 root root       4096 Mar 13  2014 10276\n",
            "drwx------   4 root root       4096 Mar 13  2014 10277\n",
            "drwx------   4 root root       4096 Mar 13  2014 10278\n",
            "drwx------   4 root root       4096 Mar 13  2014 10279\n",
            "drwx------   4 root root       4096 Mar 13  2014 10282\n",
            "drwx------   4 root root       4096 Mar 13  2014 10285\n",
            "drwx------   4 root root       4096 Mar 13  2014 10286\n",
            "drwx------   4 root root       4096 Mar 13  2014 10288\n",
            "drwx------   4 root root       4096 Mar 13  2014 10290\n",
            "drwx------   4 root root       4096 Mar 13  2014 10291\n",
            "drwx------   4 root root       4096 Mar 13  2014 10292\n",
            "drwx------   4 root root       4096 Mar 13  2014 10293\n",
            "drwx------   4 root root       4096 Mar 13  2014 10295\n",
            "drwx------   4 root root       4096 Mar 13  2014 10299\n",
            "drwx------   4 root root       4096 Mar 13  2014 10300\n",
            "drwx------   4 root root       4096 Mar 13  2014 10301\n",
            "drwx------   4 root root       4096 Mar 13  2014 10302\n",
            "drwx------   4 root root       4096 Mar 13  2014 10303\n",
            "drwx------   4 root root       4096 Mar 13  2014 10304\n",
            "drwx------   4 root root       4096 Mar 13  2014 10305\n",
            "drwx------   4 root root       4096 Mar 13  2014 10306\n",
            "drwx------   4 root root       4096 Mar 13  2014 10307\n",
            "drwx------   4 root root       4096 Mar 13  2014 10308\n",
            "drwx------   4 root root       4096 Mar 13  2014 12241\n",
            "drwx------   4 root root       4096 Mar 13  2014 12242\n",
            "drwx------   4 root root       4096 Mar 13  2014 12626\n",
            "drwx------   4 root root       4096 Mar 13  2014 12748\n",
            "drwx------   4 root root       4096 Mar 13  2014 12749\n",
            "drwx------   4 root root       4096 Mar 13  2014 12750\n",
            "drwx------   4 root root       4096 Mar 13  2014 12751\n",
            "drwx------   4 root root       4096 Mar 13  2014 12752\n",
            "drwx------   4 root root       4096 Mar 13  2014 12810\n",
            "drwx------   4 root root       4096 Mar 13  2014 12811\n",
            "drwx------   4 root root       4096 Mar 13  2014 12817\n",
            "drwx------   4 root root       4096 Mar 13  2014 12818\n",
            "drwx------   4 root root       4096 Mar 13  2014 12819\n",
            "drwx------   4 root root       4096 Mar 13  2014 12820\n",
            "drwx------   4 root root       4096 Mar 13  2014 12821\n",
            "drwx------   4 root root       4096 Mar 13  2014 12822\n",
            "drwx------   4 root root       4096 Mar 13  2014 12823\n",
            "drwx------   4 root root       4096 Mar 13  2014 12824\n",
            "drwx------   4 root root       4096 Mar 13  2014 12826\n",
            "drwx------   4 root root       4096 Mar 13  2014 12867\n",
            "drwx------   4 root root       4096 Mar 13  2014 12868\n",
            "drwx------   4 root root       4096 Mar 13  2014 12869\n",
            "drwx------   4 root root       4096 Mar 13  2014 12870\n",
            "drwx------   4 root root       4096 Mar 13  2014 12871\n",
            "drwx------   4 root root       4096 Mar 13  2014 12872\n",
            "drwx------   4 root root       4096 Mar 13  2014 12873\n",
            "drwx------   4 root root       4096 Mar 13  2014 12875\n",
            "drwx------   4 root root       4096 Mar 13  2014 12876\n",
            "drwx------   4 root root       4096 Mar 13  2014 12877\n",
            "drwx------   4 root root       4096 Mar 13  2014 12878\n",
            "drwx------   4 root root       4096 Mar 13  2014 12879\n",
            "drwx------   4 root root       4096 Mar 13  2014 12880\n",
            "drwx------   4 root root       4096 Mar 14  2014 12881\n",
            "drwx------   4 root root       4096 Mar 14  2014 12882\n",
            "drwx------   4 root root       4096 Mar 14  2014 12883\n",
            "drwx------   4 root root       4096 Mar 14  2014 12884\n",
            "drwx------   4 root root       4096 Mar 14  2014 12886\n",
            "drwx------   4 root root       4096 Mar 14  2014 12890\n",
            "drwx------   4 root root       4096 Mar 14  2014 12891\n",
            "drwx------   4 root root       4096 Mar 14  2014 12892\n",
            "drwx------   4 root root       4096 Mar 14  2014 12893\n",
            "drwx------   4 root root       4096 Mar 14  2014 12894\n",
            "drwx------   4 root root       4096 Mar 14  2014 12895\n",
            "drwx------   4 root root       4096 Mar 14  2014 12896\n",
            "drwx------   4 root root       4096 Mar 14  2014 12897\n",
            "drwx------   4 root root       4096 Mar 14  2014 12898\n",
            "drwx------   4 root root       4096 Mar 14  2014 12900\n",
            "drwx------   4 root root       4096 Mar 14  2014 12901\n",
            "drwx------   4 root root       4096 Mar 14  2014 12905\n",
            "drwx------   4 root root       4096 Mar 14  2014 12906\n",
            "drwx------   4 root root       4096 Mar 14  2014 12907\n",
            "drwx------   4 root root       4096 Mar 14  2014 12908\n",
            "drwx------   4 root root       4096 Mar 14  2014 12909\n",
            "drwx------   4 root root       4096 Mar 14  2014 12910\n",
            "drwx------   4 root root       4096 Mar 14  2014 12911\n",
            "drwx------   4 root root       4096 Mar 14  2014 12929\n",
            "drwx------   4 root root       4096 Mar 14  2014 12930\n",
            "drwx------   4 root root       4096 Mar 14  2014 12931\n",
            "drwx------   4 root root       4096 Mar 14  2014 12932\n",
            "drwx------   4 root root       4096 Mar 14  2014 12933\n",
            "drwx------   4 root root       4096 Mar 14  2014 12934\n",
            "drwx------   4 root root       4096 Mar 14  2014 12935\n",
            "drwx------   4 root root       4096 Mar 14  2014 12947\n",
            "drwx------   4 root root       4096 Mar 14  2014 12948\n",
            "drwx------   4 root root       4096 Mar 14  2014 12949\n",
            "drwx------   4 root root       4096 Mar 14  2014 12951\n",
            "drwx------   4 root root       4096 Mar 14  2014 12954\n",
            "drwx------   4 root root       4096 Mar 14  2014 12955\n",
            "drwx------   4 root root       4096 Mar 14  2014 13018\n",
            "drwx------   4 root root       4096 Mar 14  2014 13019\n",
            "drwx------   4 root root       4096 Mar 14  2014 13020\n",
            "drwx------   4 root root       4096 Mar 14  2014 13021\n",
            "drwx------   4 root root       4096 Mar 14  2014 13022\n",
            "drwx------   4 root root       4096 Mar 14  2014 13023\n",
            "drwx------   4 root root       4096 Mar 14  2014 13024\n",
            "drwx------   4 root root       4096 Mar 14  2014 13025\n",
            "drwx------   4 root root       4096 Mar 14  2014 13106\n",
            "drwx------   4 root root       4096 Mar 14  2014 13400\n",
            "drwx------   4 root root       4096 Mar 14  2014 13401\n",
            "drwx------   4 root root       4096 Mar 14  2014 13402\n",
            "drwx------   4 root root       4096 Mar 14  2014 13403\n",
            "drwx------   4 root root       4096 Mar 14  2014 13404\n",
            "drwx------   4 root root       4096 Mar 14  2014 13458\n",
            "drwx------   4 root root       4096 Mar 14  2014 13459\n",
            "drwx------   4 root root       4096 Mar 14  2014 13460\n",
            "drwx------   4 root root       4096 Mar 14  2014 13461\n",
            "drwx------   4 root root       4096 Mar 14  2014 13462\n",
            "drwx------   4 root root       4096 Mar 14  2014 13591\n",
            "drwx------   4 root root       4096 Mar 14  2014 13613\n",
            "drwx------   4 root root       4096 Mar 14  2014 13616\n",
            "drwx------   4 root root       4096 Mar 14  2014 13617\n",
            "drwx------   4 root root       4096 Mar 14  2014 13666\n",
            "drwx------   4 root root       4096 Mar 14  2014 13687\n",
            "drwx------   4 root root       4096 Mar 14  2014 13688\n",
            "drwx------   4 root root       4096 Mar 14  2014 13689\n",
            "drwx------   4 root root       4096 Mar 14  2014 13691\n",
            "drwx------   4 root root       4096 Mar 14  2014 13692\n",
            "drwx------   4 root root       4096 Mar 14  2014 13693\n",
            "drwx------   4 root root       4096 Mar 14  2014 13694\n",
            "drwx------   4 root root       4096 Mar 14  2014 13916\n",
            "drwx------   4 root root       4096 Mar 14  2014 14078\n",
            "drwx------   4 root root       4096 Mar 14  2014 14079\n",
            "drwx------   4 root root       4096 Mar 14  2014 14081\n",
            "drwx------   4 root root       4096 Mar 14  2014 14082\n",
            "drwx------   4 root root       4096 Mar 14  2014 14153\n",
            "drwx------   4 root root       4096 Mar 14  2014 14154\n",
            "drwx------   4 root root       4096 Mar 14  2014 14155\n",
            "drwx------   4 root root       4096 Mar 14  2014 14156\n",
            "drwx------   4 root root       4096 Mar 14  2014 14157\n",
            "drwx------   4 root root       4096 Mar 14  2014 14188\n",
            "drwx------   4 root root       4096 Mar 14  2014 14189\n",
            "drwx------   4 root root       4096 Mar 14  2014 14190\n",
            "drwx------   4 root root       4096 Mar 14  2014 14191\n",
            "drwx------   4 root root       4096 Mar 14  2014 14192\n",
            "drwx------   4 root root       4096 Mar 14  2014 14209\n",
            "drwx------   4 root root       4096 Mar 14  2014 14210\n",
            "drwx------   4 root root       4096 Mar 14  2014 14211\n",
            "drwx------   4 root root       4096 Mar 14  2014 14212\n",
            "drwx------   4 root root       4096 Mar 14  2014 14213\n",
            "drwx------   4 root root       4096 Mar 14  2014 14304\n",
            "drwx------   4 root root       4096 Mar 14  2014 14305\n",
            "drwx------   4 root root       4096 Mar 14  2014 14306\n",
            "drwx------   4 root root       4096 Mar 14  2014 14321\n",
            "drwx------   4 root root       4096 Mar 14  2014 15471\n",
            "drwx------   4 root root       4096 Mar 14  2014 15472\n",
            "drwx------   4 root root       4096 Mar 14  2014 15473\n",
            "drwx------   4 root root       4096 Mar 14  2014 15510\n",
            "drwx------   4 root root       4096 Mar 14  2014 15512\n",
            "drwx------   4 root root       4096 Mar 14  2014 15513\n",
            "drwx------   4 root root       4096 Mar 14  2014 15514\n",
            "drwx------   4 root root       4096 Mar 14  2014 15515\n",
            "drwx------   4 root root       4096 Mar 14  2014 15516\n",
            "drwx------   4 root root       4096 Mar 14  2014 15632\n",
            "drwx------   4 root root       4096 Mar 14  2014 15633\n",
            "drwx------   4 root root       4096 Mar 14  2014 15634\n",
            "drwx------   4 root root       4096 Mar 14  2014 15839\n",
            "drwx------   4 root root       4096 Mar 14  2014 15840\n",
            "drwx------   4 root root       4096 Mar 14  2014 15902\n",
            "drwx------   4 root root       4096 Mar 14  2014 15903\n",
            "drwx------   4 root root       4096 Mar 14  2014 16014\n",
            "drwx------   4 root root       4096 Mar 14  2014 16085\n",
            "drwx------   4 root root       4096 Mar 14  2014 16165\n",
            "drwx------   4 root root       4096 Mar 14  2014 16166\n",
            "drwx------   4 root root       4096 Mar 14  2014 16167\n",
            "drwx------   4 root root       4096 Mar 14  2014 16531\n",
            "drwx------   4 root root       4096 Mar 14  2014 16532\n",
            "drwx------   4 root root       4096 Mar 14  2014 16533\n",
            "drwx------   4 root root       4096 Mar 14  2014 16534\n",
            "drwx------   4 root root       4096 Mar 14  2014 16550\n",
            "drwx------   4 root root       4096 Mar 14  2014 16551\n",
            "drwx------   4 root root       4096 Mar 14  2014 16552\n",
            "drwx------   4 root root       4096 Mar 14  2014 16553\n",
            "drwx------   4 root root       4096 Mar 14  2014 16554\n",
            "drwx------   4 root root       4096 Mar 14  2014 16555\n",
            "drwx------   4 root root       4096 Mar 14  2014 16568\n",
            "drwx------   4 root root       4096 Mar 14  2014 16569\n",
            "drwx------   4 root root       4096 Mar 14  2014 16570\n",
            "drwx------   4 root root       4096 Mar 14  2014 16895\n",
            "drwx------   4 root root       4096 Mar 14  2014 16896\n",
            "drwx------   4 root root       4096 Mar 13  2014 8863\n",
            "drwx------   4 root root       4096 Mar 13  2014 8864\n",
            "drwx------   4 root root       4096 Mar 13  2014 8865\n",
            "drwx------   4 root root       4096 Mar 13  2014 8867\n",
            "drwx------   4 root root       4096 Mar 13  2014 8913\n",
            "drwx------   4 root root       4096 Mar 13  2014 8914\n",
            "drwx------   4 root root       4096 Mar 13  2014 8916\n",
            "drwx------   4 root root       4096 Mar 13  2014 8917\n",
            "drwx------   4 root root       4096 Mar 13  2014 8918\n",
            "drwx------   4 root root       4096 Mar 13  2014 8950\n",
            "drwx------   4 root root       4096 Mar 13  2014 8951\n",
            "drwx------   4 root root       4096 Mar 13  2014 8955\n",
            "drwx------   4 root root       4096 Mar 13  2014 8956\n",
            "drwx------   4 root root       4096 Mar 13  2014 8957\n",
            "drwx------   4 root root       4096 Mar 13  2014 8959\n",
            "drwx------   4 root root       4096 Mar 13  2014 8974\n",
            "drwx------   4 root root       4096 Mar 13  2014 8975\n",
            "drwx------   4 root root       4096 Mar 13  2014 8980\n",
            "drwx------   4 root root       4096 Mar 13  2014 8984\n",
            "drwx------   4 root root       4096 Mar 13  2014 9022\n",
            "drwx------   4 root root       4096 Mar 13  2014 9023\n",
            "drwx------   4 root root       4096 Mar 13  2014 9029\n",
            "drwx------   4 root root       4096 Mar 13  2014 9035\n",
            "drwx------   4 root root       4096 Mar 13  2014 9036\n",
            "drwx------   4 root root       4096 Mar 13  2014 9037\n",
            "drwx------   4 root root       4096 Mar 13  2014 9041\n",
            "drwx------   4 root root       4096 Mar 13  2014 9043\n",
            "drwx------   4 root root       4096 Mar 13  2014 9044\n",
            "drwx------   4 root root       4096 Mar 13  2014 9073\n",
            "drwx------   4 root root       4096 Mar 13  2014 9075\n",
            "drwx------   4 root root       4096 Mar 13  2014 9076\n",
            "drwx------   4 root root       4096 Mar 13  2014 9077\n",
            "drwx------   4 root root       4096 Mar 13  2014 9078\n",
            "drwx------   4 root root       4096 Mar 13  2014 9081\n",
            "drwx------   4 root root       4096 Mar 13  2014 9083\n",
            "drwx------   4 root root       4096 Mar 13  2014 9123\n",
            "drwx------   4 root root       4096 Mar 13  2014 9124\n",
            "drwx------   4 root root       4096 Mar 13  2014 9125\n",
            "drwx------   4 root root       4096 Mar 13  2014 9126\n",
            "drwx------   4 root root       4096 Mar 13  2014 9135\n",
            "drwx------   4 root root       4096 Mar 13  2014 9173\n",
            "drwx------   4 root root       4096 Mar 13  2014 9174\n",
            "drwx------   4 root root       4096 Mar 13  2014 9175\n",
            "drwx------   4 root root       4096 Mar 13  2014 9176\n",
            "drwx------   4 root root       4096 Mar 13  2014 9177\n",
            "drwx------   4 root root       4096 Mar 13  2014 9178\n",
            "drwx------   4 root root       4096 Mar 13  2014 9181\n",
            "drwx------   4 root root       4096 Mar 13  2014 9225\n",
            "drwx------   4 root root       4096 Mar 13  2014 9226\n",
            "drwx------   4 root root       4096 Mar 13  2014 9227\n",
            "drwx------   4 root root       4096 Mar 13  2014 9228\n",
            "drwx------   4 root root       4096 Mar 13  2014 9250\n",
            "drwx------   4 root root       4096 Mar 13  2014 9254\n",
            "drwx------   4 root root       4096 Mar 13  2014 9255\n",
            "drwx------   4 root root       4096 Mar 13  2014 9256\n",
            "drwx------   4 root root       4096 Mar 13  2014 9257\n",
            "drwx------   4 root root       4096 Mar 13  2014 9258\n",
            "drwx------   4 root root       4096 Mar 13  2014 9259\n",
            "drwx------   4 root root       4096 Mar 13  2014 9260\n",
            "drwx------   4 root root       4096 Mar 13  2014 9261\n",
            "drwx------   4 root root       4096 Mar 13  2014 9262\n",
            "drwx------   4 root root       4096 Mar 13  2014 9265\n",
            "drwx------   4 root root       4096 Mar 13  2014 9266\n",
            "drwx------   4 root root       4096 Mar 13  2014 9267\n",
            "drwx------   4 root root       4096 Mar 13  2014 9290\n",
            "drwx------   4 root root       4096 Mar 13  2014 9291\n",
            "drwx------   4 root root       4096 Mar 13  2014 9319\n",
            "drwx------   4 root root       4096 Mar 13  2014 9320\n",
            "drwx------   4 root root       4096 Mar 13  2014 9321\n",
            "drwx------   4 root root       4096 Mar 13  2014 9322\n",
            "drwx------   4 root root       4096 Mar 13  2014 9323\n",
            "drwx------   4 root root       4096 Mar 13  2014 9324\n",
            "drwx------   4 root root       4096 Mar 13  2014 9325\n",
            "drwx------   4 root root       4096 Mar 13  2014 9344\n",
            "drwx------   4 root root       4096 Mar 13  2014 9345\n",
            "drwx------   4 root root       4096 Mar 13  2014 9346\n",
            "drwx------   4 root root       4096 Mar 13  2014 9347\n",
            "drwx------   4 root root       4096 Mar 13  2014 9381\n",
            "drwx------   4 root root       4096 Mar 13  2014 9382\n",
            "drwx------   4 root root       4096 Mar 13  2014 9383\n",
            "-rw-r--r--   1 root root 1598158593 Jun  3 15:13 breast-histopathology-images.zip\n",
            "-rw-r--r--   1 root root 1644892042 Dec 19  2017 IDC_regular_ps50_idx5.zip\n"
          ],
          "name": "stdout"
        }
      ]
    },
    {
      "cell_type": "code",
      "metadata": {
        "id": "_CD_yItP6k1i",
        "colab_type": "code",
        "colab": {}
      },
      "source": [
        "!rm breast-histopathology-images.zip"
      ],
      "execution_count": 0,
      "outputs": []
    },
    {
      "cell_type": "code",
      "metadata": {
        "id": "LAr1-K0I6qjJ",
        "colab_type": "code",
        "colab": {}
      },
      "source": [
        "!rm IDC_regular_ps50_idx5.zip"
      ],
      "execution_count": 0,
      "outputs": []
    },
    {
      "cell_type": "code",
      "metadata": {
        "id": "piyBRl5c6v3f",
        "colab_type": "code",
        "colab": {
          "base_uri": "https://localhost:8080/",
          "height": 4923
        },
        "outputId": "edb9f4a5-68ca-466a-cc8c-6bccb7cc7edc"
      },
      "source": [
        "!ls -la"
      ],
      "execution_count": 20,
      "outputs": [
        {
          "output_type": "stream",
          "text": [
            "total 1132\n",
            "drwxr-xr-x 281 root root 12288 Jun  3 15:17 .\n",
            "drwxr-xr-x   1 root root  4096 Jun  3 15:10 ..\n",
            "drwx------   4 root root  4096 Mar 13  2014 10253\n",
            "drwx------   4 root root  4096 Mar 13  2014 10254\n",
            "drwx------   4 root root  4096 Mar 13  2014 10255\n",
            "drwx------   4 root root  4096 Mar 13  2014 10256\n",
            "drwx------   4 root root  4096 Mar 13  2014 10257\n",
            "drwx------   4 root root  4096 Mar 13  2014 10258\n",
            "drwx------   4 root root  4096 Mar 13  2014 10259\n",
            "drwx------   4 root root  4096 Mar 13  2014 10260\n",
            "drwx------   4 root root  4096 Mar 13  2014 10261\n",
            "drwx------   4 root root  4096 Mar 13  2014 10262\n",
            "drwx------   4 root root  4096 Mar 13  2014 10264\n",
            "drwx------   4 root root  4096 Mar 13  2014 10268\n",
            "drwx------   4 root root  4096 Mar 13  2014 10269\n",
            "drwx------   4 root root  4096 Mar 13  2014 10272\n",
            "drwx------   4 root root  4096 Mar 13  2014 10273\n",
            "drwx------   4 root root  4096 Mar 13  2014 10274\n",
            "drwx------   4 root root  4096 Mar 13  2014 10275\n",
            "drwx------   4 root root  4096 Mar 13  2014 10276\n",
            "drwx------   4 root root  4096 Mar 13  2014 10277\n",
            "drwx------   4 root root  4096 Mar 13  2014 10278\n",
            "drwx------   4 root root  4096 Mar 13  2014 10279\n",
            "drwx------   4 root root  4096 Mar 13  2014 10282\n",
            "drwx------   4 root root  4096 Mar 13  2014 10285\n",
            "drwx------   4 root root  4096 Mar 13  2014 10286\n",
            "drwx------   4 root root  4096 Mar 13  2014 10288\n",
            "drwx------   4 root root  4096 Mar 13  2014 10290\n",
            "drwx------   4 root root  4096 Mar 13  2014 10291\n",
            "drwx------   4 root root  4096 Mar 13  2014 10292\n",
            "drwx------   4 root root  4096 Mar 13  2014 10293\n",
            "drwx------   4 root root  4096 Mar 13  2014 10295\n",
            "drwx------   4 root root  4096 Mar 13  2014 10299\n",
            "drwx------   4 root root  4096 Mar 13  2014 10300\n",
            "drwx------   4 root root  4096 Mar 13  2014 10301\n",
            "drwx------   4 root root  4096 Mar 13  2014 10302\n",
            "drwx------   4 root root  4096 Mar 13  2014 10303\n",
            "drwx------   4 root root  4096 Mar 13  2014 10304\n",
            "drwx------   4 root root  4096 Mar 13  2014 10305\n",
            "drwx------   4 root root  4096 Mar 13  2014 10306\n",
            "drwx------   4 root root  4096 Mar 13  2014 10307\n",
            "drwx------   4 root root  4096 Mar 13  2014 10308\n",
            "drwx------   4 root root  4096 Mar 13  2014 12241\n",
            "drwx------   4 root root  4096 Mar 13  2014 12242\n",
            "drwx------   4 root root  4096 Mar 13  2014 12626\n",
            "drwx------   4 root root  4096 Mar 13  2014 12748\n",
            "drwx------   4 root root  4096 Mar 13  2014 12749\n",
            "drwx------   4 root root  4096 Mar 13  2014 12750\n",
            "drwx------   4 root root  4096 Mar 13  2014 12751\n",
            "drwx------   4 root root  4096 Mar 13  2014 12752\n",
            "drwx------   4 root root  4096 Mar 13  2014 12810\n",
            "drwx------   4 root root  4096 Mar 13  2014 12811\n",
            "drwx------   4 root root  4096 Mar 13  2014 12817\n",
            "drwx------   4 root root  4096 Mar 13  2014 12818\n",
            "drwx------   4 root root  4096 Mar 13  2014 12819\n",
            "drwx------   4 root root  4096 Mar 13  2014 12820\n",
            "drwx------   4 root root  4096 Mar 13  2014 12821\n",
            "drwx------   4 root root  4096 Mar 13  2014 12822\n",
            "drwx------   4 root root  4096 Mar 13  2014 12823\n",
            "drwx------   4 root root  4096 Mar 13  2014 12824\n",
            "drwx------   4 root root  4096 Mar 13  2014 12826\n",
            "drwx------   4 root root  4096 Mar 13  2014 12867\n",
            "drwx------   4 root root  4096 Mar 13  2014 12868\n",
            "drwx------   4 root root  4096 Mar 13  2014 12869\n",
            "drwx------   4 root root  4096 Mar 13  2014 12870\n",
            "drwx------   4 root root  4096 Mar 13  2014 12871\n",
            "drwx------   4 root root  4096 Mar 13  2014 12872\n",
            "drwx------   4 root root  4096 Mar 13  2014 12873\n",
            "drwx------   4 root root  4096 Mar 13  2014 12875\n",
            "drwx------   4 root root  4096 Mar 13  2014 12876\n",
            "drwx------   4 root root  4096 Mar 13  2014 12877\n",
            "drwx------   4 root root  4096 Mar 13  2014 12878\n",
            "drwx------   4 root root  4096 Mar 13  2014 12879\n",
            "drwx------   4 root root  4096 Mar 13  2014 12880\n",
            "drwx------   4 root root  4096 Mar 14  2014 12881\n",
            "drwx------   4 root root  4096 Mar 14  2014 12882\n",
            "drwx------   4 root root  4096 Mar 14  2014 12883\n",
            "drwx------   4 root root  4096 Mar 14  2014 12884\n",
            "drwx------   4 root root  4096 Mar 14  2014 12886\n",
            "drwx------   4 root root  4096 Mar 14  2014 12890\n",
            "drwx------   4 root root  4096 Mar 14  2014 12891\n",
            "drwx------   4 root root  4096 Mar 14  2014 12892\n",
            "drwx------   4 root root  4096 Mar 14  2014 12893\n",
            "drwx------   4 root root  4096 Mar 14  2014 12894\n",
            "drwx------   4 root root  4096 Mar 14  2014 12895\n",
            "drwx------   4 root root  4096 Mar 14  2014 12896\n",
            "drwx------   4 root root  4096 Mar 14  2014 12897\n",
            "drwx------   4 root root  4096 Mar 14  2014 12898\n",
            "drwx------   4 root root  4096 Mar 14  2014 12900\n",
            "drwx------   4 root root  4096 Mar 14  2014 12901\n",
            "drwx------   4 root root  4096 Mar 14  2014 12905\n",
            "drwx------   4 root root  4096 Mar 14  2014 12906\n",
            "drwx------   4 root root  4096 Mar 14  2014 12907\n",
            "drwx------   4 root root  4096 Mar 14  2014 12908\n",
            "drwx------   4 root root  4096 Mar 14  2014 12909\n",
            "drwx------   4 root root  4096 Mar 14  2014 12910\n",
            "drwx------   4 root root  4096 Mar 14  2014 12911\n",
            "drwx------   4 root root  4096 Mar 14  2014 12929\n",
            "drwx------   4 root root  4096 Mar 14  2014 12930\n",
            "drwx------   4 root root  4096 Mar 14  2014 12931\n",
            "drwx------   4 root root  4096 Mar 14  2014 12932\n",
            "drwx------   4 root root  4096 Mar 14  2014 12933\n",
            "drwx------   4 root root  4096 Mar 14  2014 12934\n",
            "drwx------   4 root root  4096 Mar 14  2014 12935\n",
            "drwx------   4 root root  4096 Mar 14  2014 12947\n",
            "drwx------   4 root root  4096 Mar 14  2014 12948\n",
            "drwx------   4 root root  4096 Mar 14  2014 12949\n",
            "drwx------   4 root root  4096 Mar 14  2014 12951\n",
            "drwx------   4 root root  4096 Mar 14  2014 12954\n",
            "drwx------   4 root root  4096 Mar 14  2014 12955\n",
            "drwx------   4 root root  4096 Mar 14  2014 13018\n",
            "drwx------   4 root root  4096 Mar 14  2014 13019\n",
            "drwx------   4 root root  4096 Mar 14  2014 13020\n",
            "drwx------   4 root root  4096 Mar 14  2014 13021\n",
            "drwx------   4 root root  4096 Mar 14  2014 13022\n",
            "drwx------   4 root root  4096 Mar 14  2014 13023\n",
            "drwx------   4 root root  4096 Mar 14  2014 13024\n",
            "drwx------   4 root root  4096 Mar 14  2014 13025\n",
            "drwx------   4 root root  4096 Mar 14  2014 13106\n",
            "drwx------   4 root root  4096 Mar 14  2014 13400\n",
            "drwx------   4 root root  4096 Mar 14  2014 13401\n",
            "drwx------   4 root root  4096 Mar 14  2014 13402\n",
            "drwx------   4 root root  4096 Mar 14  2014 13403\n",
            "drwx------   4 root root  4096 Mar 14  2014 13404\n",
            "drwx------   4 root root  4096 Mar 14  2014 13458\n",
            "drwx------   4 root root  4096 Mar 14  2014 13459\n",
            "drwx------   4 root root  4096 Mar 14  2014 13460\n",
            "drwx------   4 root root  4096 Mar 14  2014 13461\n",
            "drwx------   4 root root  4096 Mar 14  2014 13462\n",
            "drwx------   4 root root  4096 Mar 14  2014 13591\n",
            "drwx------   4 root root  4096 Mar 14  2014 13613\n",
            "drwx------   4 root root  4096 Mar 14  2014 13616\n",
            "drwx------   4 root root  4096 Mar 14  2014 13617\n",
            "drwx------   4 root root  4096 Mar 14  2014 13666\n",
            "drwx------   4 root root  4096 Mar 14  2014 13687\n",
            "drwx------   4 root root  4096 Mar 14  2014 13688\n",
            "drwx------   4 root root  4096 Mar 14  2014 13689\n",
            "drwx------   4 root root  4096 Mar 14  2014 13691\n",
            "drwx------   4 root root  4096 Mar 14  2014 13692\n",
            "drwx------   4 root root  4096 Mar 14  2014 13693\n",
            "drwx------   4 root root  4096 Mar 14  2014 13694\n",
            "drwx------   4 root root  4096 Mar 14  2014 13916\n",
            "drwx------   4 root root  4096 Mar 14  2014 14078\n",
            "drwx------   4 root root  4096 Mar 14  2014 14079\n",
            "drwx------   4 root root  4096 Mar 14  2014 14081\n",
            "drwx------   4 root root  4096 Mar 14  2014 14082\n",
            "drwx------   4 root root  4096 Mar 14  2014 14153\n",
            "drwx------   4 root root  4096 Mar 14  2014 14154\n",
            "drwx------   4 root root  4096 Mar 14  2014 14155\n",
            "drwx------   4 root root  4096 Mar 14  2014 14156\n",
            "drwx------   4 root root  4096 Mar 14  2014 14157\n",
            "drwx------   4 root root  4096 Mar 14  2014 14188\n",
            "drwx------   4 root root  4096 Mar 14  2014 14189\n",
            "drwx------   4 root root  4096 Mar 14  2014 14190\n",
            "drwx------   4 root root  4096 Mar 14  2014 14191\n",
            "drwx------   4 root root  4096 Mar 14  2014 14192\n",
            "drwx------   4 root root  4096 Mar 14  2014 14209\n",
            "drwx------   4 root root  4096 Mar 14  2014 14210\n",
            "drwx------   4 root root  4096 Mar 14  2014 14211\n",
            "drwx------   4 root root  4096 Mar 14  2014 14212\n",
            "drwx------   4 root root  4096 Mar 14  2014 14213\n",
            "drwx------   4 root root  4096 Mar 14  2014 14304\n",
            "drwx------   4 root root  4096 Mar 14  2014 14305\n",
            "drwx------   4 root root  4096 Mar 14  2014 14306\n",
            "drwx------   4 root root  4096 Mar 14  2014 14321\n",
            "drwx------   4 root root  4096 Mar 14  2014 15471\n",
            "drwx------   4 root root  4096 Mar 14  2014 15472\n",
            "drwx------   4 root root  4096 Mar 14  2014 15473\n",
            "drwx------   4 root root  4096 Mar 14  2014 15510\n",
            "drwx------   4 root root  4096 Mar 14  2014 15512\n",
            "drwx------   4 root root  4096 Mar 14  2014 15513\n",
            "drwx------   4 root root  4096 Mar 14  2014 15514\n",
            "drwx------   4 root root  4096 Mar 14  2014 15515\n",
            "drwx------   4 root root  4096 Mar 14  2014 15516\n",
            "drwx------   4 root root  4096 Mar 14  2014 15632\n",
            "drwx------   4 root root  4096 Mar 14  2014 15633\n",
            "drwx------   4 root root  4096 Mar 14  2014 15634\n",
            "drwx------   4 root root  4096 Mar 14  2014 15839\n",
            "drwx------   4 root root  4096 Mar 14  2014 15840\n",
            "drwx------   4 root root  4096 Mar 14  2014 15902\n",
            "drwx------   4 root root  4096 Mar 14  2014 15903\n",
            "drwx------   4 root root  4096 Mar 14  2014 16014\n",
            "drwx------   4 root root  4096 Mar 14  2014 16085\n",
            "drwx------   4 root root  4096 Mar 14  2014 16165\n",
            "drwx------   4 root root  4096 Mar 14  2014 16166\n",
            "drwx------   4 root root  4096 Mar 14  2014 16167\n",
            "drwx------   4 root root  4096 Mar 14  2014 16531\n",
            "drwx------   4 root root  4096 Mar 14  2014 16532\n",
            "drwx------   4 root root  4096 Mar 14  2014 16533\n",
            "drwx------   4 root root  4096 Mar 14  2014 16534\n",
            "drwx------   4 root root  4096 Mar 14  2014 16550\n",
            "drwx------   4 root root  4096 Mar 14  2014 16551\n",
            "drwx------   4 root root  4096 Mar 14  2014 16552\n",
            "drwx------   4 root root  4096 Mar 14  2014 16553\n",
            "drwx------   4 root root  4096 Mar 14  2014 16554\n",
            "drwx------   4 root root  4096 Mar 14  2014 16555\n",
            "drwx------   4 root root  4096 Mar 14  2014 16568\n",
            "drwx------   4 root root  4096 Mar 14  2014 16569\n",
            "drwx------   4 root root  4096 Mar 14  2014 16570\n",
            "drwx------   4 root root  4096 Mar 14  2014 16895\n",
            "drwx------   4 root root  4096 Mar 14  2014 16896\n",
            "drwx------   4 root root  4096 Mar 13  2014 8863\n",
            "drwx------   4 root root  4096 Mar 13  2014 8864\n",
            "drwx------   4 root root  4096 Mar 13  2014 8865\n",
            "drwx------   4 root root  4096 Mar 13  2014 8867\n",
            "drwx------   4 root root  4096 Mar 13  2014 8913\n",
            "drwx------   4 root root  4096 Mar 13  2014 8914\n",
            "drwx------   4 root root  4096 Mar 13  2014 8916\n",
            "drwx------   4 root root  4096 Mar 13  2014 8917\n",
            "drwx------   4 root root  4096 Mar 13  2014 8918\n",
            "drwx------   4 root root  4096 Mar 13  2014 8950\n",
            "drwx------   4 root root  4096 Mar 13  2014 8951\n",
            "drwx------   4 root root  4096 Mar 13  2014 8955\n",
            "drwx------   4 root root  4096 Mar 13  2014 8956\n",
            "drwx------   4 root root  4096 Mar 13  2014 8957\n",
            "drwx------   4 root root  4096 Mar 13  2014 8959\n",
            "drwx------   4 root root  4096 Mar 13  2014 8974\n",
            "drwx------   4 root root  4096 Mar 13  2014 8975\n",
            "drwx------   4 root root  4096 Mar 13  2014 8980\n",
            "drwx------   4 root root  4096 Mar 13  2014 8984\n",
            "drwx------   4 root root  4096 Mar 13  2014 9022\n",
            "drwx------   4 root root  4096 Mar 13  2014 9023\n",
            "drwx------   4 root root  4096 Mar 13  2014 9029\n",
            "drwx------   4 root root  4096 Mar 13  2014 9035\n",
            "drwx------   4 root root  4096 Mar 13  2014 9036\n",
            "drwx------   4 root root  4096 Mar 13  2014 9037\n",
            "drwx------   4 root root  4096 Mar 13  2014 9041\n",
            "drwx------   4 root root  4096 Mar 13  2014 9043\n",
            "drwx------   4 root root  4096 Mar 13  2014 9044\n",
            "drwx------   4 root root  4096 Mar 13  2014 9073\n",
            "drwx------   4 root root  4096 Mar 13  2014 9075\n",
            "drwx------   4 root root  4096 Mar 13  2014 9076\n",
            "drwx------   4 root root  4096 Mar 13  2014 9077\n",
            "drwx------   4 root root  4096 Mar 13  2014 9078\n",
            "drwx------   4 root root  4096 Mar 13  2014 9081\n",
            "drwx------   4 root root  4096 Mar 13  2014 9083\n",
            "drwx------   4 root root  4096 Mar 13  2014 9123\n",
            "drwx------   4 root root  4096 Mar 13  2014 9124\n",
            "drwx------   4 root root  4096 Mar 13  2014 9125\n",
            "drwx------   4 root root  4096 Mar 13  2014 9126\n",
            "drwx------   4 root root  4096 Mar 13  2014 9135\n",
            "drwx------   4 root root  4096 Mar 13  2014 9173\n",
            "drwx------   4 root root  4096 Mar 13  2014 9174\n",
            "drwx------   4 root root  4096 Mar 13  2014 9175\n",
            "drwx------   4 root root  4096 Mar 13  2014 9176\n",
            "drwx------   4 root root  4096 Mar 13  2014 9177\n",
            "drwx------   4 root root  4096 Mar 13  2014 9178\n",
            "drwx------   4 root root  4096 Mar 13  2014 9181\n",
            "drwx------   4 root root  4096 Mar 13  2014 9225\n",
            "drwx------   4 root root  4096 Mar 13  2014 9226\n",
            "drwx------   4 root root  4096 Mar 13  2014 9227\n",
            "drwx------   4 root root  4096 Mar 13  2014 9228\n",
            "drwx------   4 root root  4096 Mar 13  2014 9250\n",
            "drwx------   4 root root  4096 Mar 13  2014 9254\n",
            "drwx------   4 root root  4096 Mar 13  2014 9255\n",
            "drwx------   4 root root  4096 Mar 13  2014 9256\n",
            "drwx------   4 root root  4096 Mar 13  2014 9257\n",
            "drwx------   4 root root  4096 Mar 13  2014 9258\n",
            "drwx------   4 root root  4096 Mar 13  2014 9259\n",
            "drwx------   4 root root  4096 Mar 13  2014 9260\n",
            "drwx------   4 root root  4096 Mar 13  2014 9261\n",
            "drwx------   4 root root  4096 Mar 13  2014 9262\n",
            "drwx------   4 root root  4096 Mar 13  2014 9265\n",
            "drwx------   4 root root  4096 Mar 13  2014 9266\n",
            "drwx------   4 root root  4096 Mar 13  2014 9267\n",
            "drwx------   4 root root  4096 Mar 13  2014 9290\n",
            "drwx------   4 root root  4096 Mar 13  2014 9291\n",
            "drwx------   4 root root  4096 Mar 13  2014 9319\n",
            "drwx------   4 root root  4096 Mar 13  2014 9320\n",
            "drwx------   4 root root  4096 Mar 13  2014 9321\n",
            "drwx------   4 root root  4096 Mar 13  2014 9322\n",
            "drwx------   4 root root  4096 Mar 13  2014 9323\n",
            "drwx------   4 root root  4096 Mar 13  2014 9324\n",
            "drwx------   4 root root  4096 Mar 13  2014 9325\n",
            "drwx------   4 root root  4096 Mar 13  2014 9344\n",
            "drwx------   4 root root  4096 Mar 13  2014 9345\n",
            "drwx------   4 root root  4096 Mar 13  2014 9346\n",
            "drwx------   4 root root  4096 Mar 13  2014 9347\n",
            "drwx------   4 root root  4096 Mar 13  2014 9381\n",
            "drwx------   4 root root  4096 Mar 13  2014 9382\n",
            "drwx------   4 root root  4096 Mar 13  2014 9383\n"
          ],
          "name": "stdout"
        }
      ]
    },
    {
      "cell_type": "code",
      "metadata": {
        "id": "QXSR_9SW6xhp",
        "colab_type": "code",
        "colab": {}
      },
      "source": [
        ""
      ],
      "execution_count": 0,
      "outputs": []
    }
  ]
}