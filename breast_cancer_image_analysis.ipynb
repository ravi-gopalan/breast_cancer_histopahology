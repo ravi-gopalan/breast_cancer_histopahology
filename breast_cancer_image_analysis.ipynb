{
  "nbformat": 4,
  "nbformat_minor": 0,
  "metadata": {
    "colab": {
      "name": "breast_cancer_image_analysis.ipynb",
      "version": "0.3.2",
      "provenance": [],
      "include_colab_link": true
    },
    "kernelspec": {
      "name": "python3",
      "display_name": "Python 3"
    },
    "accelerator": "GPU"
  },
  "cells": [
    {
      "cell_type": "markdown",
      "metadata": {
        "id": "view-in-github",
        "colab_type": "text"
      },
      "source": [
        "<a href=\"https://colab.research.google.com/github/ravi-gopalan/breast_cancer_histopathology/blob/master/breast_cancer_image_analysis.ipynb\" target=\"_parent\"><img src=\"https://colab.research.google.com/assets/colab-badge.svg\" alt=\"Open In Colab\"/></a>"
      ]
    },
    {
      "cell_type": "code",
      "metadata": {
        "id": "zm8Pi4XC4o2G",
        "colab_type": "code",
        "colab": {
          "base_uri": "https://localhost:8080/",
          "height": 34
        },
        "outputId": "f97466fa-6260-4862-8cdc-7cc48aaeb73f"
      },
      "source": [
        "pwd"
      ],
      "execution_count": 1,
      "outputs": [
        {
          "output_type": "execute_result",
          "data": {
            "text/plain": [
              "'/content'"
            ]
          },
          "metadata": {
            "tags": []
          },
          "execution_count": 1
        }
      ]
    },
    {
      "cell_type": "code",
      "metadata": {
        "id": "w1VPNFng4uKx",
        "colab_type": "code",
        "colab": {}
      },
      "source": [
        "!mkdir breast_cancer_analysis"
      ],
      "execution_count": 0,
      "outputs": []
    },
    {
      "cell_type": "code",
      "metadata": {
        "id": "nqPQuQoh40NU",
        "colab_type": "code",
        "colab": {
          "base_uri": "https://localhost:8080/",
          "height": 124
        },
        "outputId": "0a2386f9-bc9d-4916-95e1-f29183220c24"
      },
      "source": [
        "from google.colab import drive\n",
        "drive.mount('/content/gdrive')"
      ],
      "execution_count": 3,
      "outputs": [
        {
          "output_type": "stream",
          "text": [
            "Go to this URL in a browser: https://accounts.google.com/o/oauth2/auth?client_id=947318989803-6bn6qk8qdgf4n4g3pfee6491hc0brc4i.apps.googleusercontent.com&redirect_uri=urn%3Aietf%3Awg%3Aoauth%3A2.0%3Aoob&scope=email%20https%3A%2F%2Fwww.googleapis.com%2Fauth%2Fdocs.test%20https%3A%2F%2Fwww.googleapis.com%2Fauth%2Fdrive%20https%3A%2F%2Fwww.googleapis.com%2Fauth%2Fdrive.photos.readonly%20https%3A%2F%2Fwww.googleapis.com%2Fauth%2Fpeopleapi.readonly&response_type=code\n",
            "\n",
            "Enter your authorization code:\n",
            "··········\n",
            "Mounted at /content/gdrive\n"
          ],
          "name": "stdout"
        }
      ]
    },
    {
      "cell_type": "code",
      "metadata": {
        "id": "Isxj7gEI43m8",
        "colab_type": "code",
        "colab": {
          "base_uri": "https://localhost:8080/",
          "height": 34
        },
        "outputId": "f53a12db-76a1-44f4-a304-88e89ce11d68"
      },
      "source": [
        "cd /root"
      ],
      "execution_count": 4,
      "outputs": [
        {
          "output_type": "stream",
          "text": [
            "/root\n"
          ],
          "name": "stdout"
        }
      ]
    },
    {
      "cell_type": "code",
      "metadata": {
        "id": "W6GJhFl65E5l",
        "colab_type": "code",
        "colab": {}
      },
      "source": [
        "!mkdir .kaggle"
      ],
      "execution_count": 0,
      "outputs": []
    },
    {
      "cell_type": "code",
      "metadata": {
        "id": "0QxWR5MO5JaF",
        "colab_type": "code",
        "colab": {}
      },
      "source": [
        "!cp '/content/gdrive/My Drive/Colab_stuff/kaggle.json' /root/.kaggle/kaggle.json\n",
        "!chmod 600 /root/.kaggle/kaggle.json"
      ],
      "execution_count": 0,
      "outputs": []
    },
    {
      "cell_type": "code",
      "metadata": {
        "id": "xlGEtmXi5Sbp",
        "colab_type": "code",
        "colab": {
          "base_uri": "https://localhost:8080/",
          "height": 34
        },
        "outputId": "9d410f2c-a79f-4fb1-f11d-7f0f5876852f"
      },
      "source": [
        "cd /content/breast_cancer_analysis"
      ],
      "execution_count": 7,
      "outputs": [
        {
          "output_type": "stream",
          "text": [
            "/content/breast_cancer_analysis\n"
          ],
          "name": "stdout"
        }
      ]
    },
    {
      "cell_type": "code",
      "metadata": {
        "id": "AdmdWtay5Z5O",
        "colab_type": "code",
        "colab": {
          "base_uri": "https://localhost:8080/",
          "height": 69
        },
        "outputId": "bf833426-aae2-43e2-f498-e2882aa4d395"
      },
      "source": [
        "!kaggle datasets download -d paultimothymooney/breast-histopathology-images -p /content/breast_cancer_analysis"
      ],
      "execution_count": 8,
      "outputs": [
        {
          "output_type": "stream",
          "text": [
            "Downloading breast-histopathology-images.zip to /content/breast_cancer_analysis\n",
            " 99% 1.48G/1.49G [00:27<00:00, 64.7MB/s]\n",
            "100% 1.49G/1.49G [00:27<00:00, 58.4MB/s]\n"
          ],
          "name": "stdout"
        }
      ]
    },
    {
      "cell_type": "code",
      "metadata": {
        "id": "wQcedVi_5ove",
        "colab_type": "code",
        "colab": {
          "base_uri": "https://localhost:8080/",
          "height": 86
        },
        "outputId": "9cfad2b6-30a4-407c-92c8-97ffcb76a9bb"
      },
      "source": [
        "!ls -la"
      ],
      "execution_count": 9,
      "outputs": [
        {
          "output_type": "stream",
          "text": [
            "total 1560716\n",
            "drwxr-xr-x 2 root root       4096 Jun  3 22:15 .\n",
            "drwxr-xr-x 1 root root       4096 Jun  3 22:14 ..\n",
            "-rw-r--r-- 1 root root 1598158593 Jun  3 22:15 breast-histopathology-images.zip\n"
          ],
          "name": "stdout"
        }
      ]
    },
    {
      "cell_type": "code",
      "metadata": {
        "id": "kCTEu_3-52Q5",
        "colab_type": "code",
        "colab": {
          "base_uri": "https://localhost:8080/",
          "height": 51
        },
        "outputId": "2d81259a-c8dc-4dd1-fe57-6cc10e10af66"
      },
      "source": [
        "!unzip breast-histopathology-images.zip"
      ],
      "execution_count": 10,
      "outputs": [
        {
          "output_type": "stream",
          "text": [
            "Archive:  breast-histopathology-images.zip\n",
            "  inflating: IDC_regular_ps50_idx5.zip  \n"
          ],
          "name": "stdout"
        }
      ]
    },
    {
      "cell_type": "code",
      "metadata": {
        "id": "0Pd7GlOV5-cC",
        "colab_type": "code",
        "colab": {
          "base_uri": "https://localhost:8080/",
          "height": 104
        },
        "outputId": "929da3f5-ccf9-4da3-ac81-934dafa86c58"
      },
      "source": [
        "!ls -la"
      ],
      "execution_count": 11,
      "outputs": [
        {
          "output_type": "stream",
          "text": [
            "total 3167060\n",
            "drwxr-xr-x 2 root root       4096 Jun  3 22:16 .\n",
            "drwxr-xr-x 1 root root       4096 Jun  3 22:14 ..\n",
            "-rw-r--r-- 1 root root 1598158593 Jun  3 22:15 breast-histopathology-images.zip\n",
            "-rw-r--r-- 1 root root 1644892042 Dec 19  2017 IDC_regular_ps50_idx5.zip\n"
          ],
          "name": "stdout"
        }
      ]
    },
    {
      "cell_type": "code",
      "metadata": {
        "id": "C29uFiu76MeK",
        "colab_type": "code",
        "colab": {}
      },
      "source": [
        "!unzip -q IDC_regular_ps50_idx5.zip"
      ],
      "execution_count": 0,
      "outputs": []
    },
    {
      "cell_type": "code",
      "metadata": {
        "id": "Iq5xQJhG6R3Z",
        "colab_type": "code",
        "colab": {
          "base_uri": "https://localhost:8080/",
          "height": 4958
        },
        "outputId": "5bb19201-716b-4a84-f71c-fbe4840d8821"
      },
      "source": [
        "!ls -la"
      ],
      "execution_count": 13,
      "outputs": [
        {
          "output_type": "stream",
          "text": [
            "total 3168184\n",
            "drwxr-xr-x 281 root root      12288 Jun  3 22:21 .\n",
            "drwxr-xr-x   1 root root       4096 Jun  3 22:14 ..\n",
            "drwx------   4 root root       4096 Mar 13  2014 10253\n",
            "drwx------   4 root root       4096 Mar 13  2014 10254\n",
            "drwx------   4 root root       4096 Mar 13  2014 10255\n",
            "drwx------   4 root root       4096 Mar 13  2014 10256\n",
            "drwx------   4 root root       4096 Mar 13  2014 10257\n",
            "drwx------   4 root root       4096 Mar 13  2014 10258\n",
            "drwx------   4 root root       4096 Mar 13  2014 10259\n",
            "drwx------   4 root root       4096 Mar 13  2014 10260\n",
            "drwx------   4 root root       4096 Mar 13  2014 10261\n",
            "drwx------   4 root root       4096 Mar 13  2014 10262\n",
            "drwx------   4 root root       4096 Mar 13  2014 10264\n",
            "drwx------   4 root root       4096 Mar 13  2014 10268\n",
            "drwx------   4 root root       4096 Mar 13  2014 10269\n",
            "drwx------   4 root root       4096 Mar 13  2014 10272\n",
            "drwx------   4 root root       4096 Mar 13  2014 10273\n",
            "drwx------   4 root root       4096 Mar 13  2014 10274\n",
            "drwx------   4 root root       4096 Mar 13  2014 10275\n",
            "drwx------   4 root root       4096 Mar 13  2014 10276\n",
            "drwx------   4 root root       4096 Mar 13  2014 10277\n",
            "drwx------   4 root root       4096 Mar 13  2014 10278\n",
            "drwx------   4 root root       4096 Mar 13  2014 10279\n",
            "drwx------   4 root root       4096 Mar 13  2014 10282\n",
            "drwx------   4 root root       4096 Mar 13  2014 10285\n",
            "drwx------   4 root root       4096 Mar 13  2014 10286\n",
            "drwx------   4 root root       4096 Mar 13  2014 10288\n",
            "drwx------   4 root root       4096 Mar 13  2014 10290\n",
            "drwx------   4 root root       4096 Mar 13  2014 10291\n",
            "drwx------   4 root root       4096 Mar 13  2014 10292\n",
            "drwx------   4 root root       4096 Mar 13  2014 10293\n",
            "drwx------   4 root root       4096 Mar 13  2014 10295\n",
            "drwx------   4 root root       4096 Mar 13  2014 10299\n",
            "drwx------   4 root root       4096 Mar 13  2014 10300\n",
            "drwx------   4 root root       4096 Mar 13  2014 10301\n",
            "drwx------   4 root root       4096 Mar 13  2014 10302\n",
            "drwx------   4 root root       4096 Mar 13  2014 10303\n",
            "drwx------   4 root root       4096 Mar 13  2014 10304\n",
            "drwx------   4 root root       4096 Mar 13  2014 10305\n",
            "drwx------   4 root root       4096 Mar 13  2014 10306\n",
            "drwx------   4 root root       4096 Mar 13  2014 10307\n",
            "drwx------   4 root root       4096 Mar 13  2014 10308\n",
            "drwx------   4 root root       4096 Mar 13  2014 12241\n",
            "drwx------   4 root root       4096 Mar 13  2014 12242\n",
            "drwx------   4 root root       4096 Mar 13  2014 12626\n",
            "drwx------   4 root root       4096 Mar 13  2014 12748\n",
            "drwx------   4 root root       4096 Mar 13  2014 12749\n",
            "drwx------   4 root root       4096 Mar 13  2014 12750\n",
            "drwx------   4 root root       4096 Mar 13  2014 12751\n",
            "drwx------   4 root root       4096 Mar 13  2014 12752\n",
            "drwx------   4 root root       4096 Mar 13  2014 12810\n",
            "drwx------   4 root root       4096 Mar 13  2014 12811\n",
            "drwx------   4 root root       4096 Mar 13  2014 12817\n",
            "drwx------   4 root root       4096 Mar 13  2014 12818\n",
            "drwx------   4 root root       4096 Mar 13  2014 12819\n",
            "drwx------   4 root root       4096 Mar 13  2014 12820\n",
            "drwx------   4 root root       4096 Mar 13  2014 12821\n",
            "drwx------   4 root root       4096 Mar 13  2014 12822\n",
            "drwx------   4 root root       4096 Mar 13  2014 12823\n",
            "drwx------   4 root root       4096 Mar 13  2014 12824\n",
            "drwx------   4 root root       4096 Mar 13  2014 12826\n",
            "drwx------   4 root root       4096 Mar 13  2014 12867\n",
            "drwx------   4 root root       4096 Mar 13  2014 12868\n",
            "drwx------   4 root root       4096 Mar 13  2014 12869\n",
            "drwx------   4 root root       4096 Mar 13  2014 12870\n",
            "drwx------   4 root root       4096 Mar 13  2014 12871\n",
            "drwx------   4 root root       4096 Mar 13  2014 12872\n",
            "drwx------   4 root root       4096 Mar 13  2014 12873\n",
            "drwx------   4 root root       4096 Mar 13  2014 12875\n",
            "drwx------   4 root root       4096 Mar 13  2014 12876\n",
            "drwx------   4 root root       4096 Mar 13  2014 12877\n",
            "drwx------   4 root root       4096 Mar 13  2014 12878\n",
            "drwx------   4 root root       4096 Mar 13  2014 12879\n",
            "drwx------   4 root root       4096 Mar 13  2014 12880\n",
            "drwx------   4 root root       4096 Mar 14  2014 12881\n",
            "drwx------   4 root root       4096 Mar 14  2014 12882\n",
            "drwx------   4 root root       4096 Mar 14  2014 12883\n",
            "drwx------   4 root root       4096 Mar 14  2014 12884\n",
            "drwx------   4 root root       4096 Mar 14  2014 12886\n",
            "drwx------   4 root root       4096 Mar 14  2014 12890\n",
            "drwx------   4 root root       4096 Mar 14  2014 12891\n",
            "drwx------   4 root root       4096 Mar 14  2014 12892\n",
            "drwx------   4 root root       4096 Mar 14  2014 12893\n",
            "drwx------   4 root root       4096 Mar 14  2014 12894\n",
            "drwx------   4 root root       4096 Mar 14  2014 12895\n",
            "drwx------   4 root root       4096 Mar 14  2014 12896\n",
            "drwx------   4 root root       4096 Mar 14  2014 12897\n",
            "drwx------   4 root root       4096 Mar 14  2014 12898\n",
            "drwx------   4 root root       4096 Mar 14  2014 12900\n",
            "drwx------   4 root root       4096 Mar 14  2014 12901\n",
            "drwx------   4 root root       4096 Mar 14  2014 12905\n",
            "drwx------   4 root root       4096 Mar 14  2014 12906\n",
            "drwx------   4 root root       4096 Mar 14  2014 12907\n",
            "drwx------   4 root root       4096 Mar 14  2014 12908\n",
            "drwx------   4 root root       4096 Mar 14  2014 12909\n",
            "drwx------   4 root root       4096 Mar 14  2014 12910\n",
            "drwx------   4 root root       4096 Mar 14  2014 12911\n",
            "drwx------   4 root root       4096 Mar 14  2014 12929\n",
            "drwx------   4 root root       4096 Mar 14  2014 12930\n",
            "drwx------   4 root root       4096 Mar 14  2014 12931\n",
            "drwx------   4 root root       4096 Mar 14  2014 12932\n",
            "drwx------   4 root root       4096 Mar 14  2014 12933\n",
            "drwx------   4 root root       4096 Mar 14  2014 12934\n",
            "drwx------   4 root root       4096 Mar 14  2014 12935\n",
            "drwx------   4 root root       4096 Mar 14  2014 12947\n",
            "drwx------   4 root root       4096 Mar 14  2014 12948\n",
            "drwx------   4 root root       4096 Mar 14  2014 12949\n",
            "drwx------   4 root root       4096 Mar 14  2014 12951\n",
            "drwx------   4 root root       4096 Mar 14  2014 12954\n",
            "drwx------   4 root root       4096 Mar 14  2014 12955\n",
            "drwx------   4 root root       4096 Mar 14  2014 13018\n",
            "drwx------   4 root root       4096 Mar 14  2014 13019\n",
            "drwx------   4 root root       4096 Mar 14  2014 13020\n",
            "drwx------   4 root root       4096 Mar 14  2014 13021\n",
            "drwx------   4 root root       4096 Mar 14  2014 13022\n",
            "drwx------   4 root root       4096 Mar 14  2014 13023\n",
            "drwx------   4 root root       4096 Mar 14  2014 13024\n",
            "drwx------   4 root root       4096 Mar 14  2014 13025\n",
            "drwx------   4 root root       4096 Mar 14  2014 13106\n",
            "drwx------   4 root root       4096 Mar 14  2014 13400\n",
            "drwx------   4 root root       4096 Mar 14  2014 13401\n",
            "drwx------   4 root root       4096 Mar 14  2014 13402\n",
            "drwx------   4 root root       4096 Mar 14  2014 13403\n",
            "drwx------   4 root root       4096 Mar 14  2014 13404\n",
            "drwx------   4 root root       4096 Mar 14  2014 13458\n",
            "drwx------   4 root root       4096 Mar 14  2014 13459\n",
            "drwx------   4 root root       4096 Mar 14  2014 13460\n",
            "drwx------   4 root root       4096 Mar 14  2014 13461\n",
            "drwx------   4 root root       4096 Mar 14  2014 13462\n",
            "drwx------   4 root root       4096 Mar 14  2014 13591\n",
            "drwx------   4 root root       4096 Mar 14  2014 13613\n",
            "drwx------   4 root root       4096 Mar 14  2014 13616\n",
            "drwx------   4 root root       4096 Mar 14  2014 13617\n",
            "drwx------   4 root root       4096 Mar 14  2014 13666\n",
            "drwx------   4 root root       4096 Mar 14  2014 13687\n",
            "drwx------   4 root root       4096 Mar 14  2014 13688\n",
            "drwx------   4 root root       4096 Mar 14  2014 13689\n",
            "drwx------   4 root root       4096 Mar 14  2014 13691\n",
            "drwx------   4 root root       4096 Mar 14  2014 13692\n",
            "drwx------   4 root root       4096 Mar 14  2014 13693\n",
            "drwx------   4 root root       4096 Mar 14  2014 13694\n",
            "drwx------   4 root root       4096 Mar 14  2014 13916\n",
            "drwx------   4 root root       4096 Mar 14  2014 14078\n",
            "drwx------   4 root root       4096 Mar 14  2014 14079\n",
            "drwx------   4 root root       4096 Mar 14  2014 14081\n",
            "drwx------   4 root root       4096 Mar 14  2014 14082\n",
            "drwx------   4 root root       4096 Mar 14  2014 14153\n",
            "drwx------   4 root root       4096 Mar 14  2014 14154\n",
            "drwx------   4 root root       4096 Mar 14  2014 14155\n",
            "drwx------   4 root root       4096 Mar 14  2014 14156\n",
            "drwx------   4 root root       4096 Mar 14  2014 14157\n",
            "drwx------   4 root root       4096 Mar 14  2014 14188\n",
            "drwx------   4 root root       4096 Mar 14  2014 14189\n",
            "drwx------   4 root root       4096 Mar 14  2014 14190\n",
            "drwx------   4 root root       4096 Mar 14  2014 14191\n",
            "drwx------   4 root root       4096 Mar 14  2014 14192\n",
            "drwx------   4 root root       4096 Mar 14  2014 14209\n",
            "drwx------   4 root root       4096 Mar 14  2014 14210\n",
            "drwx------   4 root root       4096 Mar 14  2014 14211\n",
            "drwx------   4 root root       4096 Mar 14  2014 14212\n",
            "drwx------   4 root root       4096 Mar 14  2014 14213\n",
            "drwx------   4 root root       4096 Mar 14  2014 14304\n",
            "drwx------   4 root root       4096 Mar 14  2014 14305\n",
            "drwx------   4 root root       4096 Mar 14  2014 14306\n",
            "drwx------   4 root root       4096 Mar 14  2014 14321\n",
            "drwx------   4 root root       4096 Mar 14  2014 15471\n",
            "drwx------   4 root root       4096 Mar 14  2014 15472\n",
            "drwx------   4 root root       4096 Mar 14  2014 15473\n",
            "drwx------   4 root root       4096 Mar 14  2014 15510\n",
            "drwx------   4 root root       4096 Mar 14  2014 15512\n",
            "drwx------   4 root root       4096 Mar 14  2014 15513\n",
            "drwx------   4 root root       4096 Mar 14  2014 15514\n",
            "drwx------   4 root root       4096 Mar 14  2014 15515\n",
            "drwx------   4 root root       4096 Mar 14  2014 15516\n",
            "drwx------   4 root root       4096 Mar 14  2014 15632\n",
            "drwx------   4 root root       4096 Mar 14  2014 15633\n",
            "drwx------   4 root root       4096 Mar 14  2014 15634\n",
            "drwx------   4 root root       4096 Mar 14  2014 15839\n",
            "drwx------   4 root root       4096 Mar 14  2014 15840\n",
            "drwx------   4 root root       4096 Mar 14  2014 15902\n",
            "drwx------   4 root root       4096 Mar 14  2014 15903\n",
            "drwx------   4 root root       4096 Mar 14  2014 16014\n",
            "drwx------   4 root root       4096 Mar 14  2014 16085\n",
            "drwx------   4 root root       4096 Mar 14  2014 16165\n",
            "drwx------   4 root root       4096 Mar 14  2014 16166\n",
            "drwx------   4 root root       4096 Mar 14  2014 16167\n",
            "drwx------   4 root root       4096 Mar 14  2014 16531\n",
            "drwx------   4 root root       4096 Mar 14  2014 16532\n",
            "drwx------   4 root root       4096 Mar 14  2014 16533\n",
            "drwx------   4 root root       4096 Mar 14  2014 16534\n",
            "drwx------   4 root root       4096 Mar 14  2014 16550\n",
            "drwx------   4 root root       4096 Mar 14  2014 16551\n",
            "drwx------   4 root root       4096 Mar 14  2014 16552\n",
            "drwx------   4 root root       4096 Mar 14  2014 16553\n",
            "drwx------   4 root root       4096 Mar 14  2014 16554\n",
            "drwx------   4 root root       4096 Mar 14  2014 16555\n",
            "drwx------   4 root root       4096 Mar 14  2014 16568\n",
            "drwx------   4 root root       4096 Mar 14  2014 16569\n",
            "drwx------   4 root root       4096 Mar 14  2014 16570\n",
            "drwx------   4 root root       4096 Mar 14  2014 16895\n",
            "drwx------   4 root root       4096 Mar 14  2014 16896\n",
            "drwx------   4 root root       4096 Mar 13  2014 8863\n",
            "drwx------   4 root root       4096 Mar 13  2014 8864\n",
            "drwx------   4 root root       4096 Mar 13  2014 8865\n",
            "drwx------   4 root root       4096 Mar 13  2014 8867\n",
            "drwx------   4 root root       4096 Mar 13  2014 8913\n",
            "drwx------   4 root root       4096 Mar 13  2014 8914\n",
            "drwx------   4 root root       4096 Mar 13  2014 8916\n",
            "drwx------   4 root root       4096 Mar 13  2014 8917\n",
            "drwx------   4 root root       4096 Mar 13  2014 8918\n",
            "drwx------   4 root root       4096 Mar 13  2014 8950\n",
            "drwx------   4 root root       4096 Mar 13  2014 8951\n",
            "drwx------   4 root root       4096 Mar 13  2014 8955\n",
            "drwx------   4 root root       4096 Mar 13  2014 8956\n",
            "drwx------   4 root root       4096 Mar 13  2014 8957\n",
            "drwx------   4 root root       4096 Mar 13  2014 8959\n",
            "drwx------   4 root root       4096 Mar 13  2014 8974\n",
            "drwx------   4 root root       4096 Mar 13  2014 8975\n",
            "drwx------   4 root root       4096 Mar 13  2014 8980\n",
            "drwx------   4 root root       4096 Mar 13  2014 8984\n",
            "drwx------   4 root root       4096 Mar 13  2014 9022\n",
            "drwx------   4 root root       4096 Mar 13  2014 9023\n",
            "drwx------   4 root root       4096 Mar 13  2014 9029\n",
            "drwx------   4 root root       4096 Mar 13  2014 9035\n",
            "drwx------   4 root root       4096 Mar 13  2014 9036\n",
            "drwx------   4 root root       4096 Mar 13  2014 9037\n",
            "drwx------   4 root root       4096 Mar 13  2014 9041\n",
            "drwx------   4 root root       4096 Mar 13  2014 9043\n",
            "drwx------   4 root root       4096 Mar 13  2014 9044\n",
            "drwx------   4 root root       4096 Mar 13  2014 9073\n",
            "drwx------   4 root root       4096 Mar 13  2014 9075\n",
            "drwx------   4 root root       4096 Mar 13  2014 9076\n",
            "drwx------   4 root root       4096 Mar 13  2014 9077\n",
            "drwx------   4 root root       4096 Mar 13  2014 9078\n",
            "drwx------   4 root root       4096 Mar 13  2014 9081\n",
            "drwx------   4 root root       4096 Mar 13  2014 9083\n",
            "drwx------   4 root root       4096 Mar 13  2014 9123\n",
            "drwx------   4 root root       4096 Mar 13  2014 9124\n",
            "drwx------   4 root root       4096 Mar 13  2014 9125\n",
            "drwx------   4 root root       4096 Mar 13  2014 9126\n",
            "drwx------   4 root root       4096 Mar 13  2014 9135\n",
            "drwx------   4 root root       4096 Mar 13  2014 9173\n",
            "drwx------   4 root root       4096 Mar 13  2014 9174\n",
            "drwx------   4 root root       4096 Mar 13  2014 9175\n",
            "drwx------   4 root root       4096 Mar 13  2014 9176\n",
            "drwx------   4 root root       4096 Mar 13  2014 9177\n",
            "drwx------   4 root root       4096 Mar 13  2014 9178\n",
            "drwx------   4 root root       4096 Mar 13  2014 9181\n",
            "drwx------   4 root root       4096 Mar 13  2014 9225\n",
            "drwx------   4 root root       4096 Mar 13  2014 9226\n",
            "drwx------   4 root root       4096 Mar 13  2014 9227\n",
            "drwx------   4 root root       4096 Mar 13  2014 9228\n",
            "drwx------   4 root root       4096 Mar 13  2014 9250\n",
            "drwx------   4 root root       4096 Mar 13  2014 9254\n",
            "drwx------   4 root root       4096 Mar 13  2014 9255\n",
            "drwx------   4 root root       4096 Mar 13  2014 9256\n",
            "drwx------   4 root root       4096 Mar 13  2014 9257\n",
            "drwx------   4 root root       4096 Mar 13  2014 9258\n",
            "drwx------   4 root root       4096 Mar 13  2014 9259\n",
            "drwx------   4 root root       4096 Mar 13  2014 9260\n",
            "drwx------   4 root root       4096 Mar 13  2014 9261\n",
            "drwx------   4 root root       4096 Mar 13  2014 9262\n",
            "drwx------   4 root root       4096 Mar 13  2014 9265\n",
            "drwx------   4 root root       4096 Mar 13  2014 9266\n",
            "drwx------   4 root root       4096 Mar 13  2014 9267\n",
            "drwx------   4 root root       4096 Mar 13  2014 9290\n",
            "drwx------   4 root root       4096 Mar 13  2014 9291\n",
            "drwx------   4 root root       4096 Mar 13  2014 9319\n",
            "drwx------   4 root root       4096 Mar 13  2014 9320\n",
            "drwx------   4 root root       4096 Mar 13  2014 9321\n",
            "drwx------   4 root root       4096 Mar 13  2014 9322\n",
            "drwx------   4 root root       4096 Mar 13  2014 9323\n",
            "drwx------   4 root root       4096 Mar 13  2014 9324\n",
            "drwx------   4 root root       4096 Mar 13  2014 9325\n",
            "drwx------   4 root root       4096 Mar 13  2014 9344\n",
            "drwx------   4 root root       4096 Mar 13  2014 9345\n",
            "drwx------   4 root root       4096 Mar 13  2014 9346\n",
            "drwx------   4 root root       4096 Mar 13  2014 9347\n",
            "drwx------   4 root root       4096 Mar 13  2014 9381\n",
            "drwx------   4 root root       4096 Mar 13  2014 9382\n",
            "drwx------   4 root root       4096 Mar 13  2014 9383\n",
            "-rw-r--r--   1 root root 1598158593 Jun  3 22:15 breast-histopathology-images.zip\n",
            "-rw-r--r--   1 root root 1644892042 Dec 19  2017 IDC_regular_ps50_idx5.zip\n"
          ],
          "name": "stdout"
        }
      ]
    },
    {
      "cell_type": "code",
      "metadata": {
        "id": "_CD_yItP6k1i",
        "colab_type": "code",
        "colab": {}
      },
      "source": [
        "!rm breast-histopathology-images.zip\n",
        "!rm IDC_regular_ps50_idx5.zip"
      ],
      "execution_count": 0,
      "outputs": []
    },
    {
      "cell_type": "code",
      "metadata": {
        "id": "LAr1-K0I6qjJ",
        "colab_type": "code",
        "colab": {
          "base_uri": "https://localhost:8080/",
          "height": 434
        },
        "outputId": "ecf596f8-f393-4ace-d304-c9423770cd04"
      },
      "source": [
        "!ls"
      ],
      "execution_count": 15,
      "outputs": [
        {
          "output_type": "stream",
          "text": [
            "10253  10288  12810  12881  12930  13403  14153  15513\t16554  8980  9174  9291\n",
            "10254  10290  12811  12882  12931  13404  14154  15514\t16555  8984  9175  9319\n",
            "10255  10291  12817  12883  12932  13458  14155  15515\t16568  9022  9176  9320\n",
            "10256  10292  12818  12884  12933  13459  14156  15516\t16569  9023  9177  9321\n",
            "10257  10293  12819  12886  12934  13460  14157  15632\t16570  9029  9178  9322\n",
            "10258  10295  12820  12890  12935  13461  14188  15633\t16895  9035  9181  9323\n",
            "10259  10299  12821  12891  12947  13462  14189  15634\t16896  9036  9225  9324\n",
            "10260  10300  12822  12892  12948  13591  14190  15839\t8863   9037  9226  9325\n",
            "10261  10301  12823  12893  12949  13613  14191  15840\t8864   9041  9227  9344\n",
            "10262  10302  12824  12894  12951  13616  14192  15902\t8865   9043  9228  9345\n",
            "10264  10303  12826  12895  12954  13617  14209  15903\t8867   9044  9250  9346\n",
            "10268  10304  12867  12896  12955  13666  14210  16014\t8913   9073  9254  9347\n",
            "10269  10305  12868  12897  13018  13687  14211  16085\t8914   9075  9255  9381\n",
            "10272  10306  12869  12898  13019  13688  14212  16165\t8916   9076  9256  9382\n",
            "10273  10307  12870  12900  13020  13689  14213  16166\t8917   9077  9257  9383\n",
            "10274  10308  12871  12901  13021  13691  14304  16167\t8918   9078  9258\n",
            "10275  12241  12872  12905  13022  13692  14305  16531\t8950   9081  9259\n",
            "10276  12242  12873  12906  13023  13693  14306  16532\t8951   9083  9260\n",
            "10277  12626  12875  12907  13024  13694  14321  16533\t8955   9123  9261\n",
            "10278  12748  12876  12908  13025  13916  15471  16534\t8956   9124  9262\n",
            "10279  12749  12877  12909  13106  14078  15472  16550\t8957   9125  9265\n",
            "10282  12750  12878  12910  13400  14079  15473  16551\t8959   9126  9266\n",
            "10285  12751  12879  12911  13401  14081  15510  16552\t8974   9135  9267\n",
            "10286  12752  12880  12929  13402  14082  15512  16553\t8975   9173  9290\n"
          ],
          "name": "stdout"
        }
      ]
    },
    {
      "cell_type": "code",
      "metadata": {
        "id": "9G6BpA7O729z",
        "colab_type": "code",
        "colab": {
          "base_uri": "https://localhost:8080/",
          "height": 89
        },
        "outputId": "6ab67fc5-7a12-450e-aa32-dbb2014b1323"
      },
      "source": [
        "import os\n",
        "from pathlib import Path\n",
        "import shutil\n",
        "import glob\n",
        "from PIL import Image, ImageFile\n",
        "import numpy as np\n",
        "import pandas as pd\n",
        "import matplotlib.pyplot as plt\n",
        "import matplotlib.gridspec as gridspec\n",
        "import seaborn as sns\n",
        "\n",
        "\n",
        "from sklearn.datasets import load_files\n",
        "from keras.utils import np_utils\n",
        "\n",
        "from keras.preprocessing import image\n",
        "from keras.preprocessing.image import ImageDataGenerator\n",
        "\n",
        "from imblearn.under_sampling import RandomUnderSampler\n",
        "from imblearn.over_sampling import RandomOverSampler\n",
        "\n",
        "\n",
        "from tqdm import tqdm\n",
        "\n",
        "\n",
        "from keras.layers import Conv2D, MaxPooling2D, GlobalAveragePooling2D\n",
        "from keras.layers import Dropout, Flatten, Dense\n",
        "from keras.models import Sequential, Model\n",
        "from keras.layers.normalization import BatchNormalization\n",
        "from keras.callbacks import ModelCheckpoint, EarlyStopping, History, CSVLogger\n",
        "from keras.applications import vgg16, inception_v3, resnet50, mobilenet, xception\n",
        "\n",
        "from sklearn.metrics import confusion_matrix, precision_score, recall_score\n",
        "from sklearn.metrics import f1_score, fbeta_score, roc_curve, cohen_kappa_score\n",
        "from sklearn.metrics import auc, roc_auc_score, precision_recall_curve\n",
        "\n",
        "from sklearn.model_selection import StratifiedShuffleSplit\n"
      ],
      "execution_count": 17,
      "outputs": [
        {
          "output_type": "stream",
          "text": [
            "Using TensorFlow backend.\n",
            "/usr/local/lib/python3.6/dist-packages/sklearn/externals/six.py:31: DeprecationWarning: The module is deprecated in version 0.21 and will be removed in version 0.23 since we've dropped support for Python 2.7. Please rely on the official version of six (https://pypi.org/project/six/).\n",
            "  \"(https://pypi.org/project/six/).\", DeprecationWarning)\n"
          ],
          "name": "stderr"
        }
      ]
    },
    {
      "cell_type": "code",
      "metadata": {
        "id": "piyBRl5c6v3f",
        "colab_type": "code",
        "colab": {}
      },
      "source": [
        "# data path\n",
        "base_dir = Path('/content/breast_cancer_analysis')"
      ],
      "execution_count": 0,
      "outputs": []
    },
    {
      "cell_type": "code",
      "metadata": {
        "id": "QXSR_9SW6xhp",
        "colab_type": "code",
        "colab": {
          "base_uri": "https://localhost:8080/",
          "height": 34
        },
        "outputId": "3ef13eaa-1f49-420f-a4a0-3842afafbc7f"
      },
      "source": [
        "cd /content/breast_cancer_analysis"
      ],
      "execution_count": 25,
      "outputs": [
        {
          "output_type": "stream",
          "text": [
            "/content/breast_cancer_analysis\n"
          ],
          "name": "stdout"
        }
      ]
    },
    {
      "cell_type": "code",
      "metadata": {
        "id": "T2p6TnPv75Bk",
        "colab_type": "code",
        "colab": {
          "base_uri": "https://localhost:8080/",
          "height": 34
        },
        "outputId": "46455169-9579-4ab9-946a-e5241176c385"
      },
      "source": [
        "cd 0"
      ],
      "execution_count": 23,
      "outputs": [
        {
          "output_type": "stream",
          "text": [
            "/content/breast_cancer_analysis/10253/0\n"
          ],
          "name": "stdout"
        }
      ]
    },
    {
      "cell_type": "code",
      "metadata": {
        "id": "5I4CEL4c77Rc",
        "colab_type": "code",
        "colab": {}
      },
      "source": [
        "result = list(Path(base_dir).glob('**/*.png'))"
      ],
      "execution_count": 0,
      "outputs": []
    },
    {
      "cell_type": "code",
      "metadata": {
        "id": "wOzFrMpN78u-",
        "colab_type": "code",
        "colab": {
          "base_uri": "https://localhost:8080/",
          "height": 34
        },
        "outputId": "3cf9039c-98f9-423c-a37f-39c90050af69"
      },
      "source": [
        "len(result)"
      ],
      "execution_count": 25,
      "outputs": [
        {
          "output_type": "execute_result",
          "data": {
            "text/plain": [
              "277524"
            ]
          },
          "metadata": {
            "tags": []
          },
          "execution_count": 25
        }
      ]
    },
    {
      "cell_type": "code",
      "metadata": {
        "id": "pTymWaqzf7EE",
        "colab_type": "code",
        "colab": {
          "base_uri": "https://localhost:8080/",
          "height": 191
        },
        "outputId": "4dcc90f0-a5d6-46c8-c201-26b64ca27461"
      },
      "source": [
        "result[:10]"
      ],
      "execution_count": 26,
      "outputs": [
        {
          "output_type": "execute_result",
          "data": {
            "text/plain": [
              "[PosixPath('/content/breast_cancer_analysis/13018/0/13018_idx5_x2301_y601_class0.png'),\n",
              " PosixPath('/content/breast_cancer_analysis/13018/0/13018_idx5_x901_y351_class0.png'),\n",
              " PosixPath('/content/breast_cancer_analysis/13018/0/13018_idx5_x51_y501_class0.png'),\n",
              " PosixPath('/content/breast_cancer_analysis/13018/0/13018_idx5_x2751_y1151_class0.png'),\n",
              " PosixPath('/content/breast_cancer_analysis/13018/0/13018_idx5_x2501_y351_class0.png'),\n",
              " PosixPath('/content/breast_cancer_analysis/13018/0/13018_idx5_x2351_y251_class0.png'),\n",
              " PosixPath('/content/breast_cancer_analysis/13018/0/13018_idx5_x2551_y601_class0.png'),\n",
              " PosixPath('/content/breast_cancer_analysis/13018/0/13018_idx5_x1151_y1001_class0.png'),\n",
              " PosixPath('/content/breast_cancer_analysis/13018/0/13018_idx5_x2301_y651_class0.png'),\n",
              " PosixPath('/content/breast_cancer_analysis/13018/0/13018_idx5_x751_y801_class0.png')]"
            ]
          },
          "metadata": {
            "tags": []
          },
          "execution_count": 26
        }
      ]
    },
    {
      "cell_type": "code",
      "metadata": {
        "id": "V-2YPBDWgIm1",
        "colab_type": "code",
        "colab": {}
      },
      "source": [
        "def check_class(name):\n",
        "  if name.__contains__('class0'):\n",
        "    case = 0\n",
        "  else:\n",
        "    case = 1\n",
        "  return case"
      ],
      "execution_count": 0,
      "outputs": []
    },
    {
      "cell_type": "code",
      "metadata": {
        "id": "GGHrcsUsjIff",
        "colab_type": "code",
        "colab": {
          "base_uri": "https://localhost:8080/",
          "height": 34
        },
        "outputId": "e483d14e-1e24-4448-f420-e55a4f752329"
      },
      "source": [
        "result[5].is_file()"
      ],
      "execution_count": 29,
      "outputs": [
        {
          "output_type": "execute_result",
          "data": {
            "text/plain": [
              "True"
            ]
          },
          "metadata": {
            "tags": []
          },
          "execution_count": 29
        }
      ]
    },
    {
      "cell_type": "code",
      "metadata": {
        "id": "TsSznd7qi8lF",
        "colab_type": "code",
        "colab": {
          "base_uri": "https://localhost:8080/",
          "height": 34
        },
        "outputId": "0c4e3c9c-5c71-41f1-db7c-627fdfcabc6f"
      },
      "source": [
        "result[5].name"
      ],
      "execution_count": 30,
      "outputs": [
        {
          "output_type": "execute_result",
          "data": {
            "text/plain": [
              "'13018_idx5_x2351_y251_class0.png'"
            ]
          },
          "metadata": {
            "tags": []
          },
          "execution_count": 30
        }
      ]
    },
    {
      "cell_type": "code",
      "metadata": {
        "id": "GOlX1-L9i__P",
        "colab_type": "code",
        "colab": {
          "base_uri": "https://localhost:8080/",
          "height": 443
        },
        "outputId": "d0773550-74c4-4cc8-a5a6-c58974917fa5"
      },
      "source": [
        "for fname in result[:5]:\n",
        "  print(fname.name)\n",
        "  plt.imshow(image.load_img(fname))\n",
        "  print(check_class(fname.name))"
      ],
      "execution_count": 35,
      "outputs": [
        {
          "output_type": "stream",
          "text": [
            "13018_idx5_x2301_y601_class0.png\n",
            "0\n",
            "13018_idx5_x901_y351_class0.png\n",
            "0\n",
            "13018_idx5_x51_y501_class0.png\n",
            "0\n",
            "13018_idx5_x2751_y1151_class0.png\n",
            "0\n",
            "13018_idx5_x2501_y351_class0.png\n",
            "0\n"
          ],
          "name": "stdout"
        },
        {
          "output_type": "display_data",
          "data": {
            "image/png": "[encoded data removed]",
            "text/plain": [
              "<Figure size 432x288 with 1 Axes>"
            ]
          },
          "metadata": {
            "tags": []
          }
        }
      ]
    },
    {
      "cell_type": "code",
      "metadata": {
        "id": "_r9lUwevkh_l",
        "colab_type": "code",
        "colab": {}
      },
      "source": [
        ""
      ],
      "execution_count": 0,
      "outputs": []
    }
  ]
}